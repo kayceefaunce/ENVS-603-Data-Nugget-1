{
 "cells": [
  {
   "cell_type": "markdown",
   "metadata": {},
   "source": [
    "## Import the moths data from the .csv file."
   ]
  },
  {
   "cell_type": "code",
   "execution_count": 5,
   "metadata": {
    "scrolled": true
   },
   "outputs": [
    {
     "data": {
      "text/html": [
       "<table>\n",
       "<thead><tr><th scope=col>region</th><th scope=col>site</th><th scope=col>area</th><th scope=col>ForstCover</th><th scope=col>Treediversity</th><th scope=col>Isolation</th><th scope=col>spp</th><th scope=col>lat</th><th scope=col>long</th></tr></thead>\n",
       "<tbody>\n",
       "\t<tr><td>WAP        </td><td>ClearCreek </td><td>289.0      </td><td>84.9       </td><td>5.59       </td><td>6.89       </td><td>85         </td><td>39.593     </td><td>-82.573    </td></tr>\n",
       "\t<tr><td>WAP        </td><td>CraneHollow</td><td>180.9      </td><td>82.2       </td><td>8.61       </td><td>6.80       </td><td>81         </td><td>39.630     </td><td>-82.558    </td></tr>\n",
       "\t<tr><td>WAP        </td><td>Phinney    </td><td> 93.5      </td><td>84.3       </td><td>6.84       </td><td>6.70       </td><td>96         </td><td>39.558     </td><td>-82.500    </td></tr>\n",
       "\t<tr><td>WAP        </td><td>Rockbridge </td><td> 89.8      </td><td>38.3       </td><td>5.09       </td><td>6.34       </td><td>47         </td><td>39.575     </td><td>-82.500    </td></tr>\n",
       "\t<tr><td>WAP        </td><td>Wahkeena   </td><td> 72.8      </td><td>53.4       </td><td>2.25       </td><td>6.38       </td><td>65         </td><td>39.635     </td><td>-82.529    </td></tr>\n",
       "\t<tr><td>WAP        </td><td>Klinger    </td><td> 22.6      </td><td>29.3       </td><td>7.06       </td><td>6.03       </td><td>66         </td><td>39.587     </td><td>-82.831    </td></tr>\n",
       "\t<tr><td>WAP        </td><td>Fairview   </td><td>  6.9      </td><td>12.5       </td><td>3.94       </td><td>5.43       </td><td>43         </td><td>39.525     </td><td>-82.450    </td></tr>\n",
       "\t<tr><td>WAP        </td><td>WindyHills </td><td>  3.8      </td><td>38.5       </td><td>4.97       </td><td>6.00       </td><td>41         </td><td>39.583     </td><td>-82.533    </td></tr>\n",
       "\t<tr><td>WAP        </td><td>RidgeLaurel</td><td>  1.7      </td><td>56.2       </td><td>7.69       </td><td>6.20       </td><td>49         </td><td>39.499     </td><td>-82.573    </td></tr>\n",
       "\t<tr><td>NCT        </td><td>Pater      </td><td>230.6      </td><td>37.1       </td><td>9.01       </td><td>6.21       </td><td>90         </td><td>39.433     </td><td>-84.742    </td></tr>\n",
       "\t<tr><td>NCT        </td><td>Brookville </td><td>118.2      </td><td>31.1       </td><td>7.65       </td><td>6.09       </td><td>83         </td><td>39.504     </td><td>-85.005    </td></tr>\n",
       "\t<tr><td>NCT        </td><td>Hueston    </td><td> 88.9      </td><td>39.1       </td><td>3.45       </td><td>6.71       </td><td>79         </td><td>39.570     </td><td>-84.758    </td></tr>\n",
       "\t<tr><td>NCT        </td><td>Western    </td><td> 68.0      </td><td>25.7       </td><td>4.41       </td><td>6.05       </td><td>74         </td><td>39.501     </td><td>-84.721    </td></tr>\n",
       "\t<tr><td>NCT        </td><td>McClure    </td><td> 58.7      </td><td>16.5       </td><td>3.24       </td><td>5.70       </td><td>66         </td><td>39.456     </td><td>-84.874    </td></tr>\n",
       "\t<tr><td>NCT        </td><td>Bittner    </td><td> 38.2      </td><td>15.0       </td><td>5.52       </td><td>5.58       </td><td>86         </td><td>39.434     </td><td>-84.785    </td></tr>\n",
       "\t<tr><td>NCT        </td><td>Gregg      </td><td> 29.5      </td><td>10.4       </td><td>3.70       </td><td>5.27       </td><td>57         </td><td>39.477     </td><td>-84.720    </td></tr>\n",
       "\t<tr><td>NCT        </td><td>Jericho    </td><td> 11.1      </td><td> 4.8       </td><td>7.41       </td><td>5.14       </td><td>64         </td><td>39.539     </td><td>-84.727    </td></tr>\n",
       "\t<tr><td>NCT        </td><td>Hermann    </td><td>  9.6      </td><td> 6.3       </td><td>5.70       </td><td>5.12       </td><td>54         </td><td>39.434     </td><td>-84.808    </td></tr>\n",
       "\t<tr><td>NCT        </td><td>Kramer     </td><td>  5.2      </td><td>38.6       </td><td>3.27       </td><td>6.18       </td><td>67         </td><td>39.528     </td><td>-84.716    </td></tr>\n",
       "\t<tr><td>NCT        </td><td>ERC        </td><td>  4.6      </td><td>30.5       </td><td>2.88       </td><td>6.00       </td><td>46         </td><td>39.532     </td><td>-84.722    </td></tr>\n",
       "\t<tr><td>NCT        </td><td>Drake      </td><td>  1.9      </td><td>10.0       </td><td>3.06       </td><td>3.32       </td><td>35         </td><td>39.458     </td><td>-84.817    </td></tr>\n",
       "</tbody>\n",
       "</table>\n"
      ],
      "text/latex": [
       "\\begin{tabular}{r|lllllllll}\n",
       " region & site & area & ForstCover & Treediversity & Isolation & spp & lat & long\\\\\n",
       "\\hline\n",
       "\t WAP         & ClearCreek  & 289.0       & 84.9        & 5.59        & 6.89        & 85          & 39.593      & -82.573    \\\\\n",
       "\t WAP         & CraneHollow & 180.9       & 82.2        & 8.61        & 6.80        & 81          & 39.630      & -82.558    \\\\\n",
       "\t WAP         & Phinney     &  93.5       & 84.3        & 6.84        & 6.70        & 96          & 39.558      & -82.500    \\\\\n",
       "\t WAP         & Rockbridge  &  89.8       & 38.3        & 5.09        & 6.34        & 47          & 39.575      & -82.500    \\\\\n",
       "\t WAP         & Wahkeena    &  72.8       & 53.4        & 2.25        & 6.38        & 65          & 39.635      & -82.529    \\\\\n",
       "\t WAP         & Klinger     &  22.6       & 29.3        & 7.06        & 6.03        & 66          & 39.587      & -82.831    \\\\\n",
       "\t WAP         & Fairview    &   6.9       & 12.5        & 3.94        & 5.43        & 43          & 39.525      & -82.450    \\\\\n",
       "\t WAP         & WindyHills  &   3.8       & 38.5        & 4.97        & 6.00        & 41          & 39.583      & -82.533    \\\\\n",
       "\t WAP         & RidgeLaurel &   1.7       & 56.2        & 7.69        & 6.20        & 49          & 39.499      & -82.573    \\\\\n",
       "\t NCT         & Pater       & 230.6       & 37.1        & 9.01        & 6.21        & 90          & 39.433      & -84.742    \\\\\n",
       "\t NCT         & Brookville  & 118.2       & 31.1        & 7.65        & 6.09        & 83          & 39.504      & -85.005    \\\\\n",
       "\t NCT         & Hueston     &  88.9       & 39.1        & 3.45        & 6.71        & 79          & 39.570      & -84.758    \\\\\n",
       "\t NCT         & Western     &  68.0       & 25.7        & 4.41        & 6.05        & 74          & 39.501      & -84.721    \\\\\n",
       "\t NCT         & McClure     &  58.7       & 16.5        & 3.24        & 5.70        & 66          & 39.456      & -84.874    \\\\\n",
       "\t NCT         & Bittner     &  38.2       & 15.0        & 5.52        & 5.58        & 86          & 39.434      & -84.785    \\\\\n",
       "\t NCT         & Gregg       &  29.5       & 10.4        & 3.70        & 5.27        & 57          & 39.477      & -84.720    \\\\\n",
       "\t NCT         & Jericho     &  11.1       &  4.8        & 7.41        & 5.14        & 64          & 39.539      & -84.727    \\\\\n",
       "\t NCT         & Hermann     &   9.6       &  6.3        & 5.70        & 5.12        & 54          & 39.434      & -84.808    \\\\\n",
       "\t NCT         & Kramer      &   5.2       & 38.6        & 3.27        & 6.18        & 67          & 39.528      & -84.716    \\\\\n",
       "\t NCT         & ERC         &   4.6       & 30.5        & 2.88        & 6.00        & 46          & 39.532      & -84.722    \\\\\n",
       "\t NCT         & Drake       &   1.9       & 10.0        & 3.06        & 3.32        & 35          & 39.458      & -84.817    \\\\\n",
       "\\end{tabular}\n"
      ],
      "text/markdown": [
       "\n",
       "region | site | area | ForstCover | Treediversity | Isolation | spp | lat | long | \n",
       "|---|---|---|---|---|---|---|---|---|---|---|---|---|---|---|---|---|---|---|---|---|\n",
       "| WAP         | ClearCreek  | 289.0       | 84.9        | 5.59        | 6.89        | 85          | 39.593      | -82.573     | \n",
       "| WAP         | CraneHollow | 180.9       | 82.2        | 8.61        | 6.80        | 81          | 39.630      | -82.558     | \n",
       "| WAP         | Phinney     |  93.5       | 84.3        | 6.84        | 6.70        | 96          | 39.558      | -82.500     | \n",
       "| WAP         | Rockbridge  |  89.8       | 38.3        | 5.09        | 6.34        | 47          | 39.575      | -82.500     | \n",
       "| WAP         | Wahkeena    |  72.8       | 53.4        | 2.25        | 6.38        | 65          | 39.635      | -82.529     | \n",
       "| WAP         | Klinger     |  22.6       | 29.3        | 7.06        | 6.03        | 66          | 39.587      | -82.831     | \n",
       "| WAP         | Fairview    |   6.9       | 12.5        | 3.94        | 5.43        | 43          | 39.525      | -82.450     | \n",
       "| WAP         | WindyHills  |   3.8       | 38.5        | 4.97        | 6.00        | 41          | 39.583      | -82.533     | \n",
       "| WAP         | RidgeLaurel |   1.7       | 56.2        | 7.69        | 6.20        | 49          | 39.499      | -82.573     | \n",
       "| NCT         | Pater       | 230.6       | 37.1        | 9.01        | 6.21        | 90          | 39.433      | -84.742     | \n",
       "| NCT         | Brookville  | 118.2       | 31.1        | 7.65        | 6.09        | 83          | 39.504      | -85.005     | \n",
       "| NCT         | Hueston     |  88.9       | 39.1        | 3.45        | 6.71        | 79          | 39.570      | -84.758     | \n",
       "| NCT         | Western     |  68.0       | 25.7        | 4.41        | 6.05        | 74          | 39.501      | -84.721     | \n",
       "| NCT         | McClure     |  58.7       | 16.5        | 3.24        | 5.70        | 66          | 39.456      | -84.874     | \n",
       "| NCT         | Bittner     |  38.2       | 15.0        | 5.52        | 5.58        | 86          | 39.434      | -84.785     | \n",
       "| NCT         | Gregg       |  29.5       | 10.4        | 3.70        | 5.27        | 57          | 39.477      | -84.720     | \n",
       "| NCT         | Jericho     |  11.1       |  4.8        | 7.41        | 5.14        | 64          | 39.539      | -84.727     | \n",
       "| NCT         | Hermann     |   9.6       |  6.3        | 5.70        | 5.12        | 54          | 39.434      | -84.808     | \n",
       "| NCT         | Kramer      |   5.2       | 38.6        | 3.27        | 6.18        | 67          | 39.528      | -84.716     | \n",
       "| NCT         | ERC         |   4.6       | 30.5        | 2.88        | 6.00        | 46          | 39.532      | -84.722     | \n",
       "| NCT         | Drake       |   1.9       | 10.0        | 3.06        | 3.32        | 35          | 39.458      | -84.817     | \n",
       "\n",
       "\n"
      ],
      "text/plain": [
       "   region site        area  ForstCover Treediversity Isolation spp lat   \n",
       "1  WAP    ClearCreek  289.0 84.9       5.59          6.89      85  39.593\n",
       "2  WAP    CraneHollow 180.9 82.2       8.61          6.80      81  39.630\n",
       "3  WAP    Phinney      93.5 84.3       6.84          6.70      96  39.558\n",
       "4  WAP    Rockbridge   89.8 38.3       5.09          6.34      47  39.575\n",
       "5  WAP    Wahkeena     72.8 53.4       2.25          6.38      65  39.635\n",
       "6  WAP    Klinger      22.6 29.3       7.06          6.03      66  39.587\n",
       "7  WAP    Fairview      6.9 12.5       3.94          5.43      43  39.525\n",
       "8  WAP    WindyHills    3.8 38.5       4.97          6.00      41  39.583\n",
       "9  WAP    RidgeLaurel   1.7 56.2       7.69          6.20      49  39.499\n",
       "10 NCT    Pater       230.6 37.1       9.01          6.21      90  39.433\n",
       "11 NCT    Brookville  118.2 31.1       7.65          6.09      83  39.504\n",
       "12 NCT    Hueston      88.9 39.1       3.45          6.71      79  39.570\n",
       "13 NCT    Western      68.0 25.7       4.41          6.05      74  39.501\n",
       "14 NCT    McClure      58.7 16.5       3.24          5.70      66  39.456\n",
       "15 NCT    Bittner      38.2 15.0       5.52          5.58      86  39.434\n",
       "16 NCT    Gregg        29.5 10.4       3.70          5.27      57  39.477\n",
       "17 NCT    Jericho      11.1  4.8       7.41          5.14      64  39.539\n",
       "18 NCT    Hermann       9.6  6.3       5.70          5.12      54  39.434\n",
       "19 NCT    Kramer        5.2 38.6       3.27          6.18      67  39.528\n",
       "20 NCT    ERC           4.6 30.5       2.88          6.00      46  39.532\n",
       "21 NCT    Drake         1.9 10.0       3.06          3.32      35  39.458\n",
       "   long   \n",
       "1  -82.573\n",
       "2  -82.558\n",
       "3  -82.500\n",
       "4  -82.500\n",
       "5  -82.529\n",
       "6  -82.831\n",
       "7  -82.450\n",
       "8  -82.533\n",
       "9  -82.573\n",
       "10 -84.742\n",
       "11 -85.005\n",
       "12 -84.758\n",
       "13 -84.721\n",
       "14 -84.874\n",
       "15 -84.785\n",
       "16 -84.720\n",
       "17 -84.727\n",
       "18 -84.808\n",
       "19 -84.716\n",
       "20 -84.722\n",
       "21 -84.817"
      ]
     },
     "metadata": {},
     "output_type": "display_data"
    }
   ],
   "source": [
    "moths <- \n",
    "  read.csv(\"moths.csv\",\n",
    "   header=TRUE, sep=\",\", na.strings=\"NA\", dec=\".\", strip.white=TRUE)\n",
    "moths"
   ]
  },
  {
   "cell_type": "markdown",
   "metadata": {},
   "source": [
    "## Now, let's install some R packages that will be useful as we start to look at and analyze the data."
   ]
  },
  {
   "cell_type": "code",
   "execution_count": 36,
   "metadata": {
    "scrolled": true
   },
   "outputs": [
    {
     "name": "stderr",
     "output_type": "stream",
     "text": [
      "Installing package into 'C:/Users/Kaycee/Documents/R/win-library/3.5'\n",
      "(as 'lib' is unspecified)\n",
      "Warning message:\n",
      "\"package 'primer' is in use and will not be installed\"Installing package into 'C:/Users/Kaycee/Documents/R/win-library/3.5'\n",
      "(as 'lib' is unspecified)\n",
      "also installing the dependencies 'zip', 'estimability', 'miniUI', 'webshot', 'openxlsx', 'minqa', 'nloptr', 'RcppEigen', 'effects', 'bdsmatrix', 'crosstalk', 'manipulateWidget', 'carData', 'pbkrtest', 'quantreg', 'maptools', 'rio', 'lme4', 'alr4', 'coxme', 'leaps', 'lmtest', 'MatrixModels', 'rgl', 'sandwich', 'SparseM', 'survey'\n",
      "\n"
     ]
    },
    {
     "name": "stdout",
     "output_type": "stream",
     "text": [
      "package 'zip' successfully unpacked and MD5 sums checked\n",
      "package 'estimability' successfully unpacked and MD5 sums checked\n",
      "package 'miniUI' successfully unpacked and MD5 sums checked\n",
      "package 'webshot' successfully unpacked and MD5 sums checked\n",
      "package 'openxlsx' successfully unpacked and MD5 sums checked\n",
      "package 'minqa' successfully unpacked and MD5 sums checked\n",
      "package 'nloptr' successfully unpacked and MD5 sums checked\n",
      "package 'RcppEigen' successfully unpacked and MD5 sums checked\n",
      "package 'effects' successfully unpacked and MD5 sums checked\n",
      "package 'bdsmatrix' successfully unpacked and MD5 sums checked\n",
      "package 'crosstalk' successfully unpacked and MD5 sums checked\n",
      "package 'manipulateWidget' successfully unpacked and MD5 sums checked\n",
      "package 'carData' successfully unpacked and MD5 sums checked\n",
      "package 'pbkrtest' successfully unpacked and MD5 sums checked\n",
      "package 'quantreg' successfully unpacked and MD5 sums checked\n",
      "package 'maptools' successfully unpacked and MD5 sums checked\n",
      "package 'rio' successfully unpacked and MD5 sums checked\n",
      "package 'lme4' successfully unpacked and MD5 sums checked\n",
      "package 'alr4' successfully unpacked and MD5 sums checked\n",
      "package 'coxme' successfully unpacked and MD5 sums checked\n",
      "package 'leaps' successfully unpacked and MD5 sums checked\n",
      "package 'lmtest' successfully unpacked and MD5 sums checked\n",
      "package 'MatrixModels' successfully unpacked and MD5 sums checked\n",
      "package 'rgl' successfully unpacked and MD5 sums checked\n",
      "package 'sandwich' successfully unpacked and MD5 sums checked\n",
      "package 'SparseM' successfully unpacked and MD5 sums checked\n",
      "package 'survey' successfully unpacked and MD5 sums checked\n",
      "package 'car' successfully unpacked and MD5 sums checked\n",
      "\n",
      "The downloaded binary packages are in\n",
      "\tC:\\Users\\Kaycee\\AppData\\Local\\Temp\\RtmpozaCnS\\downloaded_packages\n"
     ]
    },
    {
     "name": "stderr",
     "output_type": "stream",
     "text": [
      "Installing package into 'C:/Users/Kaycee/Documents/R/win-library/3.5'\n",
      "(as 'lib' is unspecified)\n",
      "Warning message:\n",
      "\"package 'histogram' is in use and will not be installed\"Installing package into 'C:/Users/Kaycee/Documents/R/win-library/3.5'\n",
      "(as 'lib' is unspecified)\n",
      "Warning message:\n",
      "\"package 'lattice' is in use and will not be installed\""
     ]
    }
   ],
   "source": [
    "install.packages(\"primer\", repos='http://cran.us.r-project.org', dependencies=TRUE)\n",
    "install.packages(\"car\", repos='http://cran.us.r-project.org', dependencies=TRUE)\n",
    "install.packages(\"histogram\", repos='http://cran.us.r-project.org', dependencies=TRUE)\n",
    "install.packages(\"lattice\", repos='http://cran.us.r-project.org', dependencies=TRUE)\n",
    "\n",
    "library(\"primer\")\n",
    "library(\"histogram\")\n",
    "library(\"lattice\")"
   ]
  },
  {
   "cell_type": "markdown",
   "metadata": {},
   "source": [
    "# The first thing we want to do is make sure that our response variable (moth species) is well-behaved. Does it have a normal distribution?\n",
    "\n",
    "## To test this assumption, let's start by visualizing the distribution using a histogram..."
   ]
  },
  {
   "cell_type": "code",
   "execution_count": 7,
   "metadata": {},
   "outputs": [
    {
     "data": {
      "image/png": "[encoded data removed]",
      "text/plain": [
       "Plot with title \"Histogram of moths$spp\""
      ]
     },
     "metadata": {},
     "output_type": "display_data"
    }
   ],
   "source": [
    "hist(moths$spp, col=\"darkgray\")"
   ]
  },
  {
   "cell_type": "markdown",
   "metadata": {},
   "source": [
    "# What are your thoughts about the distribution of our moth species data from looking at the histogram?\n",
    "\n",
    "## We can statistically assess for normality using the Shapiro Test, which tests the null hypothesis that the sample being tested is normally distributed."
   ]
  },
  {
   "cell_type": "code",
   "execution_count": 4,
   "metadata": {},
   "outputs": [
    {
     "data": {
      "text/plain": [
       "\n",
       "\tShapiro-Wilk normality test\n",
       "\n",
       "data:  moths$spp\n",
       "W = 0.96008, p-value = 0.5178\n"
      ]
     },
     "metadata": {},
     "output_type": "display_data"
    }
   ],
   "source": [
    "shapiro.test(moths$spp)"
   ]
  },
  {
   "cell_type": "markdown",
   "metadata": {},
   "source": [
    "## How do we interpret this? If the p value is less than our significance level (p < 0.05), then we don't reject the null hypothesis. Our p-value here is 0.5178; this means that our sample follows a normal distribution."
   ]
  },
  {
   "cell_type": "markdown",
   "metadata": {},
   "source": [
    "## However, it is standard to look at the log distribution. Let's log transform the histogram and run the Shapiro Test again."
   ]
  },
  {
   "cell_type": "code",
   "execution_count": 16,
   "metadata": {},
   "outputs": [
    {
     "data": {
      "image/png": "[encoded data removed]",
      "text/plain": [
       "Plot with title \"Histogram of log(moths$spp, 10)\""
      ]
     },
     "metadata": {},
     "output_type": "display_data"
    }
   ],
   "source": [
    "hist(log(moths$spp, 10))"
   ]
  },
  {
   "cell_type": "code",
   "execution_count": 6,
   "metadata": {},
   "outputs": [
    {
     "data": {
      "text/plain": [
       "\n",
       "\tShapiro-Wilk normality test\n",
       "\n",
       "data:  log(moths$spp, 10)\n",
       "W = 0.94994, p-value = 0.3398\n"
      ]
     },
     "metadata": {},
     "output_type": "display_data"
    }
   ],
   "source": [
    "shapiro.test(log(moths$spp,10))"
   ]
  },
  {
   "cell_type": "markdown",
   "metadata": {},
   "source": [
    "# Does the Shapiro Test still show our moth species data as being normally distributed?"
   ]
  },
  {
   "cell_type": "markdown",
   "metadata": {},
   "source": [
    "## Now, do the same with our continuous variable of interest: isolation."
   ]
  },
  {
   "cell_type": "code",
   "execution_count": 11,
   "metadata": {},
   "outputs": [
    {
     "data": {
      "image/png": "[encoded data removed]",
      "text/plain": [
       "Plot with title \"Histogram of moths$Isolation\""
      ]
     },
     "metadata": {},
     "output_type": "display_data"
    }
   ],
   "source": [
    "hist(moths$Isolation)"
   ]
  },
  {
   "cell_type": "markdown",
   "metadata": {},
   "source": [
    "# What are your thoughts about this histogram? Does it look normally-distributed?"
   ]
  },
  {
   "cell_type": "markdown",
   "metadata": {},
   "source": [
    "## We can generate a box-and-whiskers plot as another way of looking at the distribution."
   ]
  },
  {
   "cell_type": "code",
   "execution_count": 18,
   "metadata": {},
   "outputs": [
    {
     "data": {
      "image/png": "[encoded data removed]",
      "text/plain": [
       "plot without title"
      ]
     },
     "metadata": {},
     "output_type": "display_data"
    }
   ],
   "source": [
    "boxplot(moths$Isolation)"
   ]
  },
  {
   "cell_type": "markdown",
   "metadata": {},
   "source": [
    "## The Shapiro Test will tell us if our suspicions are correct."
   ]
  },
  {
   "cell_type": "code",
   "execution_count": 17,
   "metadata": {},
   "outputs": [
    {
     "data": {
      "text/plain": [
       "\n",
       "\tShapiro-Wilk normality test\n",
       "\n",
       "data:  moths$Isolation\n",
       "W = 0.85024, p-value = 0.004288\n"
      ]
     },
     "metadata": {},
     "output_type": "display_data"
    }
   ],
   "source": [
    "shapiro.test(moths$Isolation)"
   ]
  },
  {
   "cell_type": "markdown",
   "metadata": {},
   "source": [
    "# What do the results of the Shapiro Test indicate regarding the distribution of our data? Does the test reject or support our null hypothesis?"
   ]
  },
  {
   "cell_type": "markdown",
   "metadata": {},
   "source": [
    "## Let's log-transform these isolation data and see how they look then."
   ]
  },
  {
   "cell_type": "code",
   "execution_count": 21,
   "metadata": {},
   "outputs": [
    {
     "data": {
      "image/png": "[encoded data removed]",
      "text/plain": [
       "Plot with title \"Histogram of log(moths$Isolation, 10)\""
      ]
     },
     "metadata": {},
     "output_type": "display_data"
    }
   ],
   "source": [
    "hist(log(moths$Isolation,10))"
   ]
  },
  {
   "cell_type": "markdown",
   "metadata": {},
   "source": [
    "## Another Shapiro Test..."
   ]
  },
  {
   "cell_type": "code",
   "execution_count": 22,
   "metadata": {},
   "outputs": [
    {
     "data": {
      "text/plain": [
       "\n",
       "\tShapiro-Wilk normality test\n",
       "\n",
       "data:  sqrt(moths$Isolation)\n",
       "W = 0.80637, p-value = 0.0008224\n"
      ]
     },
     "metadata": {},
     "output_type": "display_data"
    }
   ],
   "source": [
    "shapiro.test(sqrt(moths$Isolation))"
   ]
  },
  {
   "cell_type": "markdown",
   "metadata": {},
   "source": [
    "## We can test for outliers that affect the distribution of our data using a Dixon Test.\n",
    "### First we need to install the associated R package."
   ]
  },
  {
   "cell_type": "code",
   "execution_count": 25,
   "metadata": {},
   "outputs": [
    {
     "name": "stderr",
     "output_type": "stream",
     "text": [
      "Installing package into 'C:/Users/Kaycee/Documents/R/win-library/3.5'\n",
      "(as 'lib' is unspecified)\n"
     ]
    },
    {
     "name": "stdout",
     "output_type": "stream",
     "text": [
      "package 'outliers' successfully unpacked and MD5 sums checked\n",
      "\n",
      "The downloaded binary packages are in\n",
      "\tC:\\Users\\Kaycee\\AppData\\Local\\Temp\\RtmpozaCnS\\downloaded_packages\n"
     ]
    },
    {
     "name": "stderr",
     "output_type": "stream",
     "text": [
      "Warning message:\n",
      "\"package 'outliers' was built under R version 3.5.2\""
     ]
    }
   ],
   "source": [
    "install.packages(\"outliers\", repos='http://cran.us.r-project.org', dependencies=TRUE)\n",
    "\n",
    "library(\"outliers\")"
   ]
  },
  {
   "cell_type": "code",
   "execution_count": 29,
   "metadata": {
    "scrolled": true
   },
   "outputs": [
    {
     "data": {
      "text/plain": [
       "\n",
       "\tDixon test for outliers\n",
       "\n",
       "data:  moths$Isolation\n",
       "Q = 0.53687, p-value = 0.01487\n",
       "alternative hypothesis: lowest value 3.32 is an outlier\n"
      ]
     },
     "metadata": {},
     "output_type": "display_data"
    }
   ],
   "source": [
    "dixon.test(moths$Isolation)"
   ]
  },
  {
   "cell_type": "markdown",
   "metadata": {},
   "source": [
    "# Does this test support the null or the alternative hypothesis?"
   ]
  },
  {
   "cell_type": "markdown",
   "metadata": {},
   "source": [
    "## Which site had the 3.32 value? Let's pull up our .csv file again."
   ]
  },
  {
   "cell_type": "code",
   "execution_count": 30,
   "metadata": {},
   "outputs": [
    {
     "data": {
      "text/html": [
       "<table>\n",
       "<thead><tr><th scope=col>region</th><th scope=col>site</th><th scope=col>area</th><th scope=col>ForstCover</th><th scope=col>Treediversity</th><th scope=col>Isolation</th><th scope=col>spp</th><th scope=col>lat</th><th scope=col>long</th></tr></thead>\n",
       "<tbody>\n",
       "\t<tr><td>WAP        </td><td>ClearCreek </td><td>289.0      </td><td>84.9       </td><td>5.59       </td><td>6.89       </td><td>85         </td><td>39.593     </td><td>-82.573    </td></tr>\n",
       "\t<tr><td>WAP        </td><td>CraneHollow</td><td>180.9      </td><td>82.2       </td><td>8.61       </td><td>6.80       </td><td>81         </td><td>39.630     </td><td>-82.558    </td></tr>\n",
       "\t<tr><td>WAP        </td><td>Phinney    </td><td> 93.5      </td><td>84.3       </td><td>6.84       </td><td>6.70       </td><td>96         </td><td>39.558     </td><td>-82.500    </td></tr>\n",
       "\t<tr><td>WAP        </td><td>Rockbridge </td><td> 89.8      </td><td>38.3       </td><td>5.09       </td><td>6.34       </td><td>47         </td><td>39.575     </td><td>-82.500    </td></tr>\n",
       "\t<tr><td>WAP        </td><td>Wahkeena   </td><td> 72.8      </td><td>53.4       </td><td>2.25       </td><td>6.38       </td><td>65         </td><td>39.635     </td><td>-82.529    </td></tr>\n",
       "\t<tr><td>WAP        </td><td>Klinger    </td><td> 22.6      </td><td>29.3       </td><td>7.06       </td><td>6.03       </td><td>66         </td><td>39.587     </td><td>-82.831    </td></tr>\n",
       "\t<tr><td>WAP        </td><td>Fairview   </td><td>  6.9      </td><td>12.5       </td><td>3.94       </td><td>5.43       </td><td>43         </td><td>39.525     </td><td>-82.450    </td></tr>\n",
       "\t<tr><td>WAP        </td><td>WindyHills </td><td>  3.8      </td><td>38.5       </td><td>4.97       </td><td>6.00       </td><td>41         </td><td>39.583     </td><td>-82.533    </td></tr>\n",
       "\t<tr><td>WAP        </td><td>RidgeLaurel</td><td>  1.7      </td><td>56.2       </td><td>7.69       </td><td>6.20       </td><td>49         </td><td>39.499     </td><td>-82.573    </td></tr>\n",
       "\t<tr><td>NCT        </td><td>Pater      </td><td>230.6      </td><td>37.1       </td><td>9.01       </td><td>6.21       </td><td>90         </td><td>39.433     </td><td>-84.742    </td></tr>\n",
       "\t<tr><td>NCT        </td><td>Brookville </td><td>118.2      </td><td>31.1       </td><td>7.65       </td><td>6.09       </td><td>83         </td><td>39.504     </td><td>-85.005    </td></tr>\n",
       "\t<tr><td>NCT        </td><td>Hueston    </td><td> 88.9      </td><td>39.1       </td><td>3.45       </td><td>6.71       </td><td>79         </td><td>39.570     </td><td>-84.758    </td></tr>\n",
       "\t<tr><td>NCT        </td><td>Western    </td><td> 68.0      </td><td>25.7       </td><td>4.41       </td><td>6.05       </td><td>74         </td><td>39.501     </td><td>-84.721    </td></tr>\n",
       "\t<tr><td>NCT        </td><td>McClure    </td><td> 58.7      </td><td>16.5       </td><td>3.24       </td><td>5.70       </td><td>66         </td><td>39.456     </td><td>-84.874    </td></tr>\n",
       "\t<tr><td>NCT        </td><td>Bittner    </td><td> 38.2      </td><td>15.0       </td><td>5.52       </td><td>5.58       </td><td>86         </td><td>39.434     </td><td>-84.785    </td></tr>\n",
       "\t<tr><td>NCT        </td><td>Gregg      </td><td> 29.5      </td><td>10.4       </td><td>3.70       </td><td>5.27       </td><td>57         </td><td>39.477     </td><td>-84.720    </td></tr>\n",
       "\t<tr><td>NCT        </td><td>Jericho    </td><td> 11.1      </td><td> 4.8       </td><td>7.41       </td><td>5.14       </td><td>64         </td><td>39.539     </td><td>-84.727    </td></tr>\n",
       "\t<tr><td>NCT        </td><td>Hermann    </td><td>  9.6      </td><td> 6.3       </td><td>5.70       </td><td>5.12       </td><td>54         </td><td>39.434     </td><td>-84.808    </td></tr>\n",
       "\t<tr><td>NCT        </td><td>Kramer     </td><td>  5.2      </td><td>38.6       </td><td>3.27       </td><td>6.18       </td><td>67         </td><td>39.528     </td><td>-84.716    </td></tr>\n",
       "\t<tr><td>NCT        </td><td>ERC        </td><td>  4.6      </td><td>30.5       </td><td>2.88       </td><td>6.00       </td><td>46         </td><td>39.532     </td><td>-84.722    </td></tr>\n",
       "\t<tr><td>NCT        </td><td>Drake      </td><td>  1.9      </td><td>10.0       </td><td>3.06       </td><td>3.32       </td><td>35         </td><td>39.458     </td><td>-84.817    </td></tr>\n",
       "</tbody>\n",
       "</table>\n"
      ],
      "text/latex": [
       "\\begin{tabular}{r|lllllllll}\n",
       " region & site & area & ForstCover & Treediversity & Isolation & spp & lat & long\\\\\n",
       "\\hline\n",
       "\t WAP         & ClearCreek  & 289.0       & 84.9        & 5.59        & 6.89        & 85          & 39.593      & -82.573    \\\\\n",
       "\t WAP         & CraneHollow & 180.9       & 82.2        & 8.61        & 6.80        & 81          & 39.630      & -82.558    \\\\\n",
       "\t WAP         & Phinney     &  93.5       & 84.3        & 6.84        & 6.70        & 96          & 39.558      & -82.500    \\\\\n",
       "\t WAP         & Rockbridge  &  89.8       & 38.3        & 5.09        & 6.34        & 47          & 39.575      & -82.500    \\\\\n",
       "\t WAP         & Wahkeena    &  72.8       & 53.4        & 2.25        & 6.38        & 65          & 39.635      & -82.529    \\\\\n",
       "\t WAP         & Klinger     &  22.6       & 29.3        & 7.06        & 6.03        & 66          & 39.587      & -82.831    \\\\\n",
       "\t WAP         & Fairview    &   6.9       & 12.5        & 3.94        & 5.43        & 43          & 39.525      & -82.450    \\\\\n",
       "\t WAP         & WindyHills  &   3.8       & 38.5        & 4.97        & 6.00        & 41          & 39.583      & -82.533    \\\\\n",
       "\t WAP         & RidgeLaurel &   1.7       & 56.2        & 7.69        & 6.20        & 49          & 39.499      & -82.573    \\\\\n",
       "\t NCT         & Pater       & 230.6       & 37.1        & 9.01        & 6.21        & 90          & 39.433      & -84.742    \\\\\n",
       "\t NCT         & Brookville  & 118.2       & 31.1        & 7.65        & 6.09        & 83          & 39.504      & -85.005    \\\\\n",
       "\t NCT         & Hueston     &  88.9       & 39.1        & 3.45        & 6.71        & 79          & 39.570      & -84.758    \\\\\n",
       "\t NCT         & Western     &  68.0       & 25.7        & 4.41        & 6.05        & 74          & 39.501      & -84.721    \\\\\n",
       "\t NCT         & McClure     &  58.7       & 16.5        & 3.24        & 5.70        & 66          & 39.456      & -84.874    \\\\\n",
       "\t NCT         & Bittner     &  38.2       & 15.0        & 5.52        & 5.58        & 86          & 39.434      & -84.785    \\\\\n",
       "\t NCT         & Gregg       &  29.5       & 10.4        & 3.70        & 5.27        & 57          & 39.477      & -84.720    \\\\\n",
       "\t NCT         & Jericho     &  11.1       &  4.8        & 7.41        & 5.14        & 64          & 39.539      & -84.727    \\\\\n",
       "\t NCT         & Hermann     &   9.6       &  6.3        & 5.70        & 5.12        & 54          & 39.434      & -84.808    \\\\\n",
       "\t NCT         & Kramer      &   5.2       & 38.6        & 3.27        & 6.18        & 67          & 39.528      & -84.716    \\\\\n",
       "\t NCT         & ERC         &   4.6       & 30.5        & 2.88        & 6.00        & 46          & 39.532      & -84.722    \\\\\n",
       "\t NCT         & Drake       &   1.9       & 10.0        & 3.06        & 3.32        & 35          & 39.458      & -84.817    \\\\\n",
       "\\end{tabular}\n"
      ],
      "text/markdown": [
       "\n",
       "region | site | area | ForstCover | Treediversity | Isolation | spp | lat | long | \n",
       "|---|---|---|---|---|---|---|---|---|---|---|---|---|---|---|---|---|---|---|---|---|\n",
       "| WAP         | ClearCreek  | 289.0       | 84.9        | 5.59        | 6.89        | 85          | 39.593      | -82.573     | \n",
       "| WAP         | CraneHollow | 180.9       | 82.2        | 8.61        | 6.80        | 81          | 39.630      | -82.558     | \n",
       "| WAP         | Phinney     |  93.5       | 84.3        | 6.84        | 6.70        | 96          | 39.558      | -82.500     | \n",
       "| WAP         | Rockbridge  |  89.8       | 38.3        | 5.09        | 6.34        | 47          | 39.575      | -82.500     | \n",
       "| WAP         | Wahkeena    |  72.8       | 53.4        | 2.25        | 6.38        | 65          | 39.635      | -82.529     | \n",
       "| WAP         | Klinger     |  22.6       | 29.3        | 7.06        | 6.03        | 66          | 39.587      | -82.831     | \n",
       "| WAP         | Fairview    |   6.9       | 12.5        | 3.94        | 5.43        | 43          | 39.525      | -82.450     | \n",
       "| WAP         | WindyHills  |   3.8       | 38.5        | 4.97        | 6.00        | 41          | 39.583      | -82.533     | \n",
       "| WAP         | RidgeLaurel |   1.7       | 56.2        | 7.69        | 6.20        | 49          | 39.499      | -82.573     | \n",
       "| NCT         | Pater       | 230.6       | 37.1        | 9.01        | 6.21        | 90          | 39.433      | -84.742     | \n",
       "| NCT         | Brookville  | 118.2       | 31.1        | 7.65        | 6.09        | 83          | 39.504      | -85.005     | \n",
       "| NCT         | Hueston     |  88.9       | 39.1        | 3.45        | 6.71        | 79          | 39.570      | -84.758     | \n",
       "| NCT         | Western     |  68.0       | 25.7        | 4.41        | 6.05        | 74          | 39.501      | -84.721     | \n",
       "| NCT         | McClure     |  58.7       | 16.5        | 3.24        | 5.70        | 66          | 39.456      | -84.874     | \n",
       "| NCT         | Bittner     |  38.2       | 15.0        | 5.52        | 5.58        | 86          | 39.434      | -84.785     | \n",
       "| NCT         | Gregg       |  29.5       | 10.4        | 3.70        | 5.27        | 57          | 39.477      | -84.720     | \n",
       "| NCT         | Jericho     |  11.1       |  4.8        | 7.41        | 5.14        | 64          | 39.539      | -84.727     | \n",
       "| NCT         | Hermann     |   9.6       |  6.3        | 5.70        | 5.12        | 54          | 39.434      | -84.808     | \n",
       "| NCT         | Kramer      |   5.2       | 38.6        | 3.27        | 6.18        | 67          | 39.528      | -84.716     | \n",
       "| NCT         | ERC         |   4.6       | 30.5        | 2.88        | 6.00        | 46          | 39.532      | -84.722     | \n",
       "| NCT         | Drake       |   1.9       | 10.0        | 3.06        | 3.32        | 35          | 39.458      | -84.817     | \n",
       "\n",
       "\n"
      ],
      "text/plain": [
       "   region site        area  ForstCover Treediversity Isolation spp lat   \n",
       "1  WAP    ClearCreek  289.0 84.9       5.59          6.89      85  39.593\n",
       "2  WAP    CraneHollow 180.9 82.2       8.61          6.80      81  39.630\n",
       "3  WAP    Phinney      93.5 84.3       6.84          6.70      96  39.558\n",
       "4  WAP    Rockbridge   89.8 38.3       5.09          6.34      47  39.575\n",
       "5  WAP    Wahkeena     72.8 53.4       2.25          6.38      65  39.635\n",
       "6  WAP    Klinger      22.6 29.3       7.06          6.03      66  39.587\n",
       "7  WAP    Fairview      6.9 12.5       3.94          5.43      43  39.525\n",
       "8  WAP    WindyHills    3.8 38.5       4.97          6.00      41  39.583\n",
       "9  WAP    RidgeLaurel   1.7 56.2       7.69          6.20      49  39.499\n",
       "10 NCT    Pater       230.6 37.1       9.01          6.21      90  39.433\n",
       "11 NCT    Brookville  118.2 31.1       7.65          6.09      83  39.504\n",
       "12 NCT    Hueston      88.9 39.1       3.45          6.71      79  39.570\n",
       "13 NCT    Western      68.0 25.7       4.41          6.05      74  39.501\n",
       "14 NCT    McClure      58.7 16.5       3.24          5.70      66  39.456\n",
       "15 NCT    Bittner      38.2 15.0       5.52          5.58      86  39.434\n",
       "16 NCT    Gregg        29.5 10.4       3.70          5.27      57  39.477\n",
       "17 NCT    Jericho      11.1  4.8       7.41          5.14      64  39.539\n",
       "18 NCT    Hermann       9.6  6.3       5.70          5.12      54  39.434\n",
       "19 NCT    Kramer        5.2 38.6       3.27          6.18      67  39.528\n",
       "20 NCT    ERC           4.6 30.5       2.88          6.00      46  39.532\n",
       "21 NCT    Drake         1.9 10.0       3.06          3.32      35  39.458\n",
       "   long   \n",
       "1  -82.573\n",
       "2  -82.558\n",
       "3  -82.500\n",
       "4  -82.500\n",
       "5  -82.529\n",
       "6  -82.831\n",
       "7  -82.450\n",
       "8  -82.533\n",
       "9  -82.573\n",
       "10 -84.742\n",
       "11 -85.005\n",
       "12 -84.758\n",
       "13 -84.721\n",
       "14 -84.874\n",
       "15 -84.785\n",
       "16 -84.720\n",
       "17 -84.727\n",
       "18 -84.808\n",
       "19 -84.716\n",
       "20 -84.722\n",
       "21 -84.817"
      ]
     },
     "metadata": {},
     "output_type": "display_data"
    }
   ],
   "source": [
    "moths <- \n",
    "  read.csv(\"moths.csv\",\n",
    "   header=TRUE, sep=\",\", na.strings=\"NA\", dec=\".\", strip.white=TRUE)\n",
    "moths"
   ]
  },
  {
   "cell_type": "markdown",
   "metadata": {},
   "source": [
    "# Time to begin the linear regression."
   ]
  },
  {
   "cell_type": "code",
   "execution_count": 34,
   "metadata": {
    "scrolled": true
   },
   "outputs": [
    {
     "data": {
      "image/png": "[encoded data removed]",
      "text/plain": [
       "plot without title"
      ]
     },
     "metadata": {},
     "output_type": "display_data"
    }
   ],
   "source": [
    "plot(log(spp,10) ~ log(Isolation,10), moths)\n",
    "mod <- lm(log(spp,10) ~log(Isolation,10), data=moths)\n",
    "abline(mod)"
   ]
  },
  {
   "cell_type": "markdown",
   "metadata": {},
   "source": [
    "## Regression diagnostics can be used to assess our model. "
   ]
  },
  {
   "cell_type": "code",
   "execution_count": 45,
   "metadata": {},
   "outputs": [
    {
     "data": {
      "image/png": "[encoded data removed]",
      "text/plain": [
       "Plot with title \"\""
      ]
     },
     "metadata": {},
     "output_type": "display_data"
    },
    {
     "data": {
      "image/png": "[encoded data removed]",
      "text/plain": [
       "Plot with title \"\""
      ]
     },
     "metadata": {},
     "output_type": "display_data"
    },
    {
     "data": {
      "image/png": "[encoded data removed]",
      "text/plain": [
       "Plot with title \"\""
      ]
     },
     "metadata": {},
     "output_type": "display_data"
    },
    {
     "data": {
      "image/png": "[encoded data removed]",
      "text/plain": [
       "Plot with title \"\""
      ]
     },
     "metadata": {},
     "output_type": "display_data"
    }
   ],
   "source": [
    "plot(mod)"
   ]
  },
  {
   "cell_type": "markdown",
   "metadata": {},
   "source": [
    "## Now, the summary."
   ]
  },
  {
   "cell_type": "code",
   "execution_count": 40,
   "metadata": {},
   "outputs": [
    {
     "data": {
      "text/plain": [
       "\n",
       "Call:\n",
       "lm(formula = log(spp, 10) ~ log(Isolation, 10), data = moths)\n",
       "\n",
       "Residuals:\n",
       "     Min       1Q   Median       3Q      Max \n",
       "-0.19845 -0.02757  0.01473  0.05405  0.15784 \n",
       "\n",
       "Coefficients:\n",
       "                   Estimate Std. Error t value Pr(>|t|)   \n",
       "(Intercept)          0.9577     0.2627   3.645  0.00172 **\n",
       "log(Isolation, 10)   1.0968     0.3412   3.214  0.00456 **\n",
       "---\n",
       "Signif. codes:  0 '***' 0.001 '**' 0.01 '*' 0.05 '.' 0.1 ' ' 1\n",
       "\n",
       "Residual standard error: 0.1038 on 19 degrees of freedom\n",
       "Multiple R-squared:  0.3523,\tAdjusted R-squared:  0.3182 \n",
       "F-statistic: 10.33 on 1 and 19 DF,  p-value: 0.004563\n"
      ]
     },
     "metadata": {},
     "output_type": "display_data"
    },
    {
     "data": {
      "text/plain": [
       "\n",
       "Call:\n",
       "lm(formula = log(spp, 10) ~ log(Isolation, 10), data = moths)\n",
       "\n",
       "Coefficients:\n",
       "       (Intercept)  log(Isolation, 10)  \n",
       "            0.9577              1.0968  \n"
      ]
     },
     "metadata": {},
     "output_type": "display_data"
    },
    {
     "data": {
      "text/html": [
       "<dl class=dl-horizontal>\n",
       "\t<dt>(Intercept)</dt>\n",
       "\t\t<dd>0.957735976664569</dd>\n",
       "\t<dt>log(Isolation, 10)</dt>\n",
       "\t\t<dd>1.09682595806653</dd>\n",
       "</dl>\n"
      ],
      "text/latex": [
       "\\begin{description*}\n",
       "\\item[(Intercept)] 0.957735976664569\n",
       "\\item[log(Isolation, 10)] 1.09682595806653\n",
       "\\end{description*}\n"
      ],
      "text/markdown": [
       "(Intercept)\n",
       ":   0.957735976664569log(Isolation, 10)\n",
       ":   1.09682595806653\n",
       "\n"
      ],
      "text/plain": [
       "       (Intercept) log(Isolation, 10) \n",
       "          0.957736           1.096826 "
      ]
     },
     "metadata": {},
     "output_type": "display_data"
    },
    {
     "data": {
      "text/html": [
       "<table>\n",
       "<thead><tr><th></th><th scope=col>2.5 %</th><th scope=col>97.5 %</th></tr></thead>\n",
       "<tbody>\n",
       "\t<tr><th scope=row>(Intercept)</th><td>0.4078097</td><td>1.507662 </td></tr>\n",
       "\t<tr><th scope=row>log(Isolation, 10)</th><td>0.3826603</td><td>1.810992 </td></tr>\n",
       "</tbody>\n",
       "</table>\n"
      ],
      "text/latex": [
       "\\begin{tabular}{r|ll}\n",
       "  & 2.5 \\% & 97.5 \\%\\\\\n",
       "\\hline\n",
       "\t(Intercept) & 0.4078097 & 1.507662 \\\\\n",
       "\tlog(Isolation, 10) & 0.3826603 & 1.810992 \\\\\n",
       "\\end{tabular}\n"
      ],
      "text/markdown": [
       "\n",
       "| <!--/--> | 2.5 % | 97.5 % | \n",
       "|---|---|\n",
       "| (Intercept) | 0.4078097 | 1.507662  | \n",
       "| log(Isolation, 10) | 0.3826603 | 1.810992  | \n",
       "\n",
       "\n"
      ],
      "text/plain": [
       "                   2.5 %     97.5 %  \n",
       "(Intercept)        0.4078097 1.507662\n",
       "log(Isolation, 10) 0.3826603 1.810992"
      ]
     },
     "metadata": {},
     "output_type": "display_data"
    },
    {
     "data": {
      "text/html": [
       "<table>\n",
       "<thead><tr><th></th><th scope=col>Df</th><th scope=col>Sum Sq</th><th scope=col>Mean Sq</th><th scope=col>F value</th><th scope=col>Pr(&gt;F)</th></tr></thead>\n",
       "<tbody>\n",
       "\t<tr><th scope=row>log(Isolation, 10)</th><td> 1         </td><td>0.1112498  </td><td>0.11124976 </td><td>10.33299   </td><td>0.004563397</td></tr>\n",
       "\t<tr><th scope=row>Residuals</th><td>19         </td><td>0.2045629  </td><td>0.01076647 </td><td>      NA   </td><td>         NA</td></tr>\n",
       "</tbody>\n",
       "</table>\n"
      ],
      "text/latex": [
       "\\begin{tabular}{r|lllll}\n",
       "  & Df & Sum Sq & Mean Sq & F value & Pr(>F)\\\\\n",
       "\\hline\n",
       "\tlog(Isolation, 10) &  1          & 0.1112498   & 0.11124976  & 10.33299    & 0.004563397\\\\\n",
       "\tResiduals & 19          & 0.2045629   & 0.01076647  &       NA    &          NA\\\\\n",
       "\\end{tabular}\n"
      ],
      "text/markdown": [
       "\n",
       "| <!--/--> | Df | Sum Sq | Mean Sq | F value | Pr(>F) | \n",
       "|---|---|\n",
       "| log(Isolation, 10) |  1          | 0.1112498   | 0.11124976  | 10.33299    | 0.004563397 | \n",
       "| Residuals | 19          | 0.2045629   | 0.01076647  |       NA    |          NA | \n",
       "\n",
       "\n"
      ],
      "text/plain": [
       "                   Df Sum Sq    Mean Sq    F value  Pr(>F)     \n",
       "log(Isolation, 10)  1 0.1112498 0.11124976 10.33299 0.004563397\n",
       "Residuals          19 0.2045629 0.01076647       NA          NA"
      ]
     },
     "metadata": {},
     "output_type": "display_data"
    }
   ],
   "source": [
    "summary(mod)\n",
    "mod\n",
    "coef(mod)\n",
    "confint(mod)\n",
    "anova(mod)"
   ]
  },
  {
   "cell_type": "markdown",
   "metadata": {},
   "source": [
    "## Splitting up the study regions."
   ]
  },
  {
   "cell_type": "code",
   "execution_count": 42,
   "metadata": {},
   "outputs": [
    {
     "data": {
      "text/html": [
       "<table>\n",
       "<thead><tr><th></th><th scope=col>region</th><th scope=col>site</th><th scope=col>area</th><th scope=col>ForstCover</th><th scope=col>Treediversity</th><th scope=col>Isolation</th><th scope=col>spp</th><th scope=col>lat</th><th scope=col>long</th></tr></thead>\n",
       "<tbody>\n",
       "\t<tr><th scope=row>10</th><td>NCT       </td><td>Pater     </td><td>230.6     </td><td>37.1      </td><td>9.01      </td><td>6.21      </td><td>90        </td><td>39.433    </td><td>-84.742   </td></tr>\n",
       "\t<tr><th scope=row>11</th><td>NCT       </td><td>Brookville</td><td>118.2     </td><td>31.1      </td><td>7.65      </td><td>6.09      </td><td>83        </td><td>39.504    </td><td>-85.005   </td></tr>\n",
       "\t<tr><th scope=row>12</th><td>NCT       </td><td>Hueston   </td><td> 88.9     </td><td>39.1      </td><td>3.45      </td><td>6.71      </td><td>79        </td><td>39.570    </td><td>-84.758   </td></tr>\n",
       "\t<tr><th scope=row>13</th><td>NCT       </td><td>Western   </td><td> 68.0     </td><td>25.7      </td><td>4.41      </td><td>6.05      </td><td>74        </td><td>39.501    </td><td>-84.721   </td></tr>\n",
       "\t<tr><th scope=row>14</th><td>NCT       </td><td>McClure   </td><td> 58.7     </td><td>16.5      </td><td>3.24      </td><td>5.70      </td><td>66        </td><td>39.456    </td><td>-84.874   </td></tr>\n",
       "\t<tr><th scope=row>15</th><td>NCT       </td><td>Bittner   </td><td> 38.2     </td><td>15.0      </td><td>5.52      </td><td>5.58      </td><td>86        </td><td>39.434    </td><td>-84.785   </td></tr>\n",
       "\t<tr><th scope=row>16</th><td>NCT       </td><td>Gregg     </td><td> 29.5     </td><td>10.4      </td><td>3.70      </td><td>5.27      </td><td>57        </td><td>39.477    </td><td>-84.720   </td></tr>\n",
       "\t<tr><th scope=row>17</th><td>NCT       </td><td>Jericho   </td><td> 11.1     </td><td> 4.8      </td><td>7.41      </td><td>5.14      </td><td>64        </td><td>39.539    </td><td>-84.727   </td></tr>\n",
       "\t<tr><th scope=row>18</th><td>NCT       </td><td>Hermann   </td><td>  9.6     </td><td> 6.3      </td><td>5.70      </td><td>5.12      </td><td>54        </td><td>39.434    </td><td>-84.808   </td></tr>\n",
       "\t<tr><th scope=row>19</th><td>NCT       </td><td>Kramer    </td><td>  5.2     </td><td>38.6      </td><td>3.27      </td><td>6.18      </td><td>67        </td><td>39.528    </td><td>-84.716   </td></tr>\n",
       "\t<tr><th scope=row>20</th><td>NCT       </td><td>ERC       </td><td>  4.6     </td><td>30.5      </td><td>2.88      </td><td>6.00      </td><td>46        </td><td>39.532    </td><td>-84.722   </td></tr>\n",
       "\t<tr><th scope=row>21</th><td>NCT       </td><td>Drake     </td><td>  1.9     </td><td>10.0      </td><td>3.06      </td><td>3.32      </td><td>35        </td><td>39.458    </td><td>-84.817   </td></tr>\n",
       "</tbody>\n",
       "</table>\n"
      ],
      "text/latex": [
       "\\begin{tabular}{r|lllllllll}\n",
       "  & region & site & area & ForstCover & Treediversity & Isolation & spp & lat & long\\\\\n",
       "\\hline\n",
       "\t10 & NCT        & Pater      & 230.6      & 37.1       & 9.01       & 6.21       & 90         & 39.433     & -84.742   \\\\\n",
       "\t11 & NCT        & Brookville & 118.2      & 31.1       & 7.65       & 6.09       & 83         & 39.504     & -85.005   \\\\\n",
       "\t12 & NCT        & Hueston    &  88.9      & 39.1       & 3.45       & 6.71       & 79         & 39.570     & -84.758   \\\\\n",
       "\t13 & NCT        & Western    &  68.0      & 25.7       & 4.41       & 6.05       & 74         & 39.501     & -84.721   \\\\\n",
       "\t14 & NCT        & McClure    &  58.7      & 16.5       & 3.24       & 5.70       & 66         & 39.456     & -84.874   \\\\\n",
       "\t15 & NCT        & Bittner    &  38.2      & 15.0       & 5.52       & 5.58       & 86         & 39.434     & -84.785   \\\\\n",
       "\t16 & NCT        & Gregg      &  29.5      & 10.4       & 3.70       & 5.27       & 57         & 39.477     & -84.720   \\\\\n",
       "\t17 & NCT        & Jericho    &  11.1      &  4.8       & 7.41       & 5.14       & 64         & 39.539     & -84.727   \\\\\n",
       "\t18 & NCT        & Hermann    &   9.6      &  6.3       & 5.70       & 5.12       & 54         & 39.434     & -84.808   \\\\\n",
       "\t19 & NCT        & Kramer     &   5.2      & 38.6       & 3.27       & 6.18       & 67         & 39.528     & -84.716   \\\\\n",
       "\t20 & NCT        & ERC        &   4.6      & 30.5       & 2.88       & 6.00       & 46         & 39.532     & -84.722   \\\\\n",
       "\t21 & NCT        & Drake      &   1.9      & 10.0       & 3.06       & 3.32       & 35         & 39.458     & -84.817   \\\\\n",
       "\\end{tabular}\n"
      ],
      "text/markdown": [
       "\n",
       "| <!--/--> | region | site | area | ForstCover | Treediversity | Isolation | spp | lat | long | \n",
       "|---|---|---|---|---|---|---|---|---|---|---|---|\n",
       "| 10 | NCT        | Pater      | 230.6      | 37.1       | 9.01       | 6.21       | 90         | 39.433     | -84.742    | \n",
       "| 11 | NCT        | Brookville | 118.2      | 31.1       | 7.65       | 6.09       | 83         | 39.504     | -85.005    | \n",
       "| 12 | NCT        | Hueston    |  88.9      | 39.1       | 3.45       | 6.71       | 79         | 39.570     | -84.758    | \n",
       "| 13 | NCT        | Western    |  68.0      | 25.7       | 4.41       | 6.05       | 74         | 39.501     | -84.721    | \n",
       "| 14 | NCT        | McClure    |  58.7      | 16.5       | 3.24       | 5.70       | 66         | 39.456     | -84.874    | \n",
       "| 15 | NCT        | Bittner    |  38.2      | 15.0       | 5.52       | 5.58       | 86         | 39.434     | -84.785    | \n",
       "| 16 | NCT        | Gregg      |  29.5      | 10.4       | 3.70       | 5.27       | 57         | 39.477     | -84.720    | \n",
       "| 17 | NCT        | Jericho    |  11.1      |  4.8       | 7.41       | 5.14       | 64         | 39.539     | -84.727    | \n",
       "| 18 | NCT        | Hermann    |   9.6      |  6.3       | 5.70       | 5.12       | 54         | 39.434     | -84.808    | \n",
       "| 19 | NCT        | Kramer     |   5.2      | 38.6       | 3.27       | 6.18       | 67         | 39.528     | -84.716    | \n",
       "| 20 | NCT        | ERC        |   4.6      | 30.5       | 2.88       | 6.00       | 46         | 39.532     | -84.722    | \n",
       "| 21 | NCT        | Drake      |   1.9      | 10.0       | 3.06       | 3.32       | 35         | 39.458     | -84.817    | \n",
       "\n",
       "\n"
      ],
      "text/plain": [
       "   region site       area  ForstCover Treediversity Isolation spp lat   \n",
       "10 NCT    Pater      230.6 37.1       9.01          6.21      90  39.433\n",
       "11 NCT    Brookville 118.2 31.1       7.65          6.09      83  39.504\n",
       "12 NCT    Hueston     88.9 39.1       3.45          6.71      79  39.570\n",
       "13 NCT    Western     68.0 25.7       4.41          6.05      74  39.501\n",
       "14 NCT    McClure     58.7 16.5       3.24          5.70      66  39.456\n",
       "15 NCT    Bittner     38.2 15.0       5.52          5.58      86  39.434\n",
       "16 NCT    Gregg       29.5 10.4       3.70          5.27      57  39.477\n",
       "17 NCT    Jericho     11.1  4.8       7.41          5.14      64  39.539\n",
       "18 NCT    Hermann      9.6  6.3       5.70          5.12      54  39.434\n",
       "19 NCT    Kramer       5.2 38.6       3.27          6.18      67  39.528\n",
       "20 NCT    ERC          4.6 30.5       2.88          6.00      46  39.532\n",
       "21 NCT    Drake        1.9 10.0       3.06          3.32      35  39.458\n",
       "   long   \n",
       "10 -84.742\n",
       "11 -85.005\n",
       "12 -84.758\n",
       "13 -84.721\n",
       "14 -84.874\n",
       "15 -84.785\n",
       "16 -84.720\n",
       "17 -84.727\n",
       "18 -84.808\n",
       "19 -84.716\n",
       "20 -84.722\n",
       "21 -84.817"
      ]
     },
     "metadata": {},
     "output_type": "display_data"
    },
    {
     "data": {
      "text/html": [
       "<table>\n",
       "<thead><tr><th scope=col>region</th><th scope=col>site</th><th scope=col>area</th><th scope=col>ForstCover</th><th scope=col>Treediversity</th><th scope=col>Isolation</th><th scope=col>spp</th><th scope=col>lat</th><th scope=col>long</th></tr></thead>\n",
       "<tbody>\n",
       "\t<tr><td>WAP        </td><td>ClearCreek </td><td>289.0      </td><td>84.9       </td><td>5.59       </td><td>6.89       </td><td>85         </td><td>39.593     </td><td>-82.573    </td></tr>\n",
       "\t<tr><td>WAP        </td><td>CraneHollow</td><td>180.9      </td><td>82.2       </td><td>8.61       </td><td>6.80       </td><td>81         </td><td>39.630     </td><td>-82.558    </td></tr>\n",
       "\t<tr><td>WAP        </td><td>Phinney    </td><td> 93.5      </td><td>84.3       </td><td>6.84       </td><td>6.70       </td><td>96         </td><td>39.558     </td><td>-82.500    </td></tr>\n",
       "\t<tr><td>WAP        </td><td>Rockbridge </td><td> 89.8      </td><td>38.3       </td><td>5.09       </td><td>6.34       </td><td>47         </td><td>39.575     </td><td>-82.500    </td></tr>\n",
       "\t<tr><td>WAP        </td><td>Wahkeena   </td><td> 72.8      </td><td>53.4       </td><td>2.25       </td><td>6.38       </td><td>65         </td><td>39.635     </td><td>-82.529    </td></tr>\n",
       "\t<tr><td>WAP        </td><td>Klinger    </td><td> 22.6      </td><td>29.3       </td><td>7.06       </td><td>6.03       </td><td>66         </td><td>39.587     </td><td>-82.831    </td></tr>\n",
       "\t<tr><td>WAP        </td><td>Fairview   </td><td>  6.9      </td><td>12.5       </td><td>3.94       </td><td>5.43       </td><td>43         </td><td>39.525     </td><td>-82.450    </td></tr>\n",
       "\t<tr><td>WAP        </td><td>WindyHills </td><td>  3.8      </td><td>38.5       </td><td>4.97       </td><td>6.00       </td><td>41         </td><td>39.583     </td><td>-82.533    </td></tr>\n",
       "\t<tr><td>WAP        </td><td>RidgeLaurel</td><td>  1.7      </td><td>56.2       </td><td>7.69       </td><td>6.20       </td><td>49         </td><td>39.499     </td><td>-82.573    </td></tr>\n",
       "</tbody>\n",
       "</table>\n"
      ],
      "text/latex": [
       "\\begin{tabular}{r|lllllllll}\n",
       " region & site & area & ForstCover & Treediversity & Isolation & spp & lat & long\\\\\n",
       "\\hline\n",
       "\t WAP         & ClearCreek  & 289.0       & 84.9        & 5.59        & 6.89        & 85          & 39.593      & -82.573    \\\\\n",
       "\t WAP         & CraneHollow & 180.9       & 82.2        & 8.61        & 6.80        & 81          & 39.630      & -82.558    \\\\\n",
       "\t WAP         & Phinney     &  93.5       & 84.3        & 6.84        & 6.70        & 96          & 39.558      & -82.500    \\\\\n",
       "\t WAP         & Rockbridge  &  89.8       & 38.3        & 5.09        & 6.34        & 47          & 39.575      & -82.500    \\\\\n",
       "\t WAP         & Wahkeena    &  72.8       & 53.4        & 2.25        & 6.38        & 65          & 39.635      & -82.529    \\\\\n",
       "\t WAP         & Klinger     &  22.6       & 29.3        & 7.06        & 6.03        & 66          & 39.587      & -82.831    \\\\\n",
       "\t WAP         & Fairview    &   6.9       & 12.5        & 3.94        & 5.43        & 43          & 39.525      & -82.450    \\\\\n",
       "\t WAP         & WindyHills  &   3.8       & 38.5        & 4.97        & 6.00        & 41          & 39.583      & -82.533    \\\\\n",
       "\t WAP         & RidgeLaurel &   1.7       & 56.2        & 7.69        & 6.20        & 49          & 39.499      & -82.573    \\\\\n",
       "\\end{tabular}\n"
      ],
      "text/markdown": [
       "\n",
       "region | site | area | ForstCover | Treediversity | Isolation | spp | lat | long | \n",
       "|---|---|---|---|---|---|---|---|---|\n",
       "| WAP         | ClearCreek  | 289.0       | 84.9        | 5.59        | 6.89        | 85          | 39.593      | -82.573     | \n",
       "| WAP         | CraneHollow | 180.9       | 82.2        | 8.61        | 6.80        | 81          | 39.630      | -82.558     | \n",
       "| WAP         | Phinney     |  93.5       | 84.3        | 6.84        | 6.70        | 96          | 39.558      | -82.500     | \n",
       "| WAP         | Rockbridge  |  89.8       | 38.3        | 5.09        | 6.34        | 47          | 39.575      | -82.500     | \n",
       "| WAP         | Wahkeena    |  72.8       | 53.4        | 2.25        | 6.38        | 65          | 39.635      | -82.529     | \n",
       "| WAP         | Klinger     |  22.6       | 29.3        | 7.06        | 6.03        | 66          | 39.587      | -82.831     | \n",
       "| WAP         | Fairview    |   6.9       | 12.5        | 3.94        | 5.43        | 43          | 39.525      | -82.450     | \n",
       "| WAP         | WindyHills  |   3.8       | 38.5        | 4.97        | 6.00        | 41          | 39.583      | -82.533     | \n",
       "| WAP         | RidgeLaurel |   1.7       | 56.2        | 7.69        | 6.20        | 49          | 39.499      | -82.573     | \n",
       "\n",
       "\n"
      ],
      "text/plain": [
       "  region site        area  ForstCover Treediversity Isolation spp lat   \n",
       "1 WAP    ClearCreek  289.0 84.9       5.59          6.89      85  39.593\n",
       "2 WAP    CraneHollow 180.9 82.2       8.61          6.80      81  39.630\n",
       "3 WAP    Phinney      93.5 84.3       6.84          6.70      96  39.558\n",
       "4 WAP    Rockbridge   89.8 38.3       5.09          6.34      47  39.575\n",
       "5 WAP    Wahkeena     72.8 53.4       2.25          6.38      65  39.635\n",
       "6 WAP    Klinger      22.6 29.3       7.06          6.03      66  39.587\n",
       "7 WAP    Fairview      6.9 12.5       3.94          5.43      43  39.525\n",
       "8 WAP    WindyHills    3.8 38.5       4.97          6.00      41  39.583\n",
       "9 WAP    RidgeLaurel   1.7 56.2       7.69          6.20      49  39.499\n",
       "  long   \n",
       "1 -82.573\n",
       "2 -82.558\n",
       "3 -82.500\n",
       "4 -82.500\n",
       "5 -82.529\n",
       "6 -82.831\n",
       "7 -82.450\n",
       "8 -82.533\n",
       "9 -82.573"
      ]
     },
     "metadata": {},
     "output_type": "display_data"
    }
   ],
   "source": [
    "NCTmoths<-subset(moths, region ==\"NCT\")\n",
    "NCTmoths\n",
    "WAPmoths<-subset(moths, region==\"WAP\")\n",
    "WAPmoths"
   ]
  },
  {
   "cell_type": "markdown",
   "metadata": {},
   "source": [
    "## Linear regression on WAP..."
   ]
  },
  {
   "cell_type": "code",
   "execution_count": 44,
   "metadata": {},
   "outputs": [
    {
     "data": {
      "image/png": "[encoded data removed]",
      "text/plain": [
       "plot without title"
      ]
     },
     "metadata": {},
     "output_type": "display_data"
    }
   ],
   "source": [
    "plot(log(spp,10) ~ log(area,10), WAPmoths)\n",
    "WAPmod <- lm(log(spp,10) ~log(area,10), data=WAPmoths)\n",
    "abline(WAPmod)"
   ]
  },
  {
   "cell_type": "code",
   "execution_count": 46,
   "metadata": {},
   "outputs": [
    {
     "data": {
      "image/png": "[encoded data removed]",
      "text/plain": [
       "Plot with title \"\""
      ]
     },
     "metadata": {},
     "output_type": "display_data"
    },
    {
     "data": {
      "image/png": "[encoded data removed]",
      "text/plain": [
       "Plot with title \"\""
      ]
     },
     "metadata": {},
     "output_type": "display_data"
    },
    {
     "data": {
      "image/png": "[encoded data removed]",
      "text/plain": [
       "Plot with title \"\""
      ]
     },
     "metadata": {},
     "output_type": "display_data"
    },
    {
     "data": {
      "image/png": "[encoded data removed]",
      "text/plain": [
       "Plot with title \"\""
      ]
     },
     "metadata": {},
     "output_type": "display_data"
    }
   ],
   "source": [
    "plot(WAPmod)"
   ]
  },
  {
   "cell_type": "code",
   "execution_count": 48,
   "metadata": {
    "scrolled": true
   },
   "outputs": [
    {
     "data": {
      "text/plain": [
       "\n",
       "Call:\n",
       "lm(formula = log(spp, 10) ~ log(area, 10), data = WAPmoths)\n",
       "\n",
       "Residuals:\n",
       "     Min       1Q   Median       3Q      Max \n",
       "-0.17236 -0.04988  0.01778  0.05439  0.13550 \n",
       "\n",
       "Coefficients:\n",
       "              Estimate Std. Error t value Pr(>|t|)    \n",
       "(Intercept)    1.58593    0.07196  22.040    1e-07 ***\n",
       "log(area, 10)  0.13235    0.04296   3.081   0.0178 *  \n",
       "---\n",
       "Signif. codes:  0 '***' 0.001 '**' 0.01 '*' 0.05 '.' 0.1 ' ' 1\n",
       "\n",
       "Residual standard error: 0.0958 on 7 degrees of freedom\n",
       "Multiple R-squared:  0.5755,\tAdjusted R-squared:  0.5149 \n",
       "F-statistic:  9.49 on 1 and 7 DF,  p-value: 0.0178\n"
      ]
     },
     "metadata": {},
     "output_type": "display_data"
    },
    {
     "data": {
      "text/plain": [
       "\n",
       "Call:\n",
       "lm(formula = log(spp, 10) ~ log(Isolation, 10), data = moths)\n",
       "\n",
       "Coefficients:\n",
       "       (Intercept)  log(Isolation, 10)  \n",
       "            0.9577              1.0968  \n"
      ]
     },
     "metadata": {},
     "output_type": "display_data"
    },
    {
     "data": {
      "text/html": [
       "<dl class=dl-horizontal>\n",
       "\t<dt>(Intercept)</dt>\n",
       "\t\t<dd>1.58593064640472</dd>\n",
       "\t<dt>log(area, 10)</dt>\n",
       "\t\t<dd>0.132353905009805</dd>\n",
       "</dl>\n"
      ],
      "text/latex": [
       "\\begin{description*}\n",
       "\\item[(Intercept)] 1.58593064640472\n",
       "\\item[log(area, 10)] 0.132353905009805\n",
       "\\end{description*}\n"
      ],
      "text/markdown": [
       "(Intercept)\n",
       ":   1.58593064640472log(area, 10)\n",
       ":   0.132353905009805\n",
       "\n"
      ],
      "text/plain": [
       "  (Intercept) log(area, 10) \n",
       "    1.5859306     0.1323539 "
      ]
     },
     "metadata": {},
     "output_type": "display_data"
    },
    {
     "data": {
      "text/html": [
       "<table>\n",
       "<thead><tr><th></th><th scope=col>2.5 %</th><th scope=col>97.5 %</th></tr></thead>\n",
       "<tbody>\n",
       "\t<tr><th scope=row>(Intercept)</th><td>0.4078097</td><td>1.507662 </td></tr>\n",
       "\t<tr><th scope=row>log(Isolation, 10)</th><td>0.3826603</td><td>1.810992 </td></tr>\n",
       "</tbody>\n",
       "</table>\n"
      ],
      "text/latex": [
       "\\begin{tabular}{r|ll}\n",
       "  & 2.5 \\% & 97.5 \\%\\\\\n",
       "\\hline\n",
       "\t(Intercept) & 0.4078097 & 1.507662 \\\\\n",
       "\tlog(Isolation, 10) & 0.3826603 & 1.810992 \\\\\n",
       "\\end{tabular}\n"
      ],
      "text/markdown": [
       "\n",
       "| <!--/--> | 2.5 % | 97.5 % | \n",
       "|---|---|\n",
       "| (Intercept) | 0.4078097 | 1.507662  | \n",
       "| log(Isolation, 10) | 0.3826603 | 1.810992  | \n",
       "\n",
       "\n"
      ],
      "text/plain": [
       "                   2.5 %     97.5 %  \n",
       "(Intercept)        0.4078097 1.507662\n",
       "log(Isolation, 10) 0.3826603 1.810992"
      ]
     },
     "metadata": {},
     "output_type": "display_data"
    },
    {
     "data": {
      "text/html": [
       "<table>\n",
       "<thead><tr><th></th><th scope=col>Df</th><th scope=col>Sum Sq</th><th scope=col>Mean Sq</th><th scope=col>F value</th><th scope=col>Pr(&gt;F)</th></tr></thead>\n",
       "<tbody>\n",
       "\t<tr><th scope=row>log(area, 10)</th><td>1          </td><td>0.08710178 </td><td>0.087101780</td><td>9.490392   </td><td>0.01779917 </td></tr>\n",
       "\t<tr><th scope=row>Residuals</th><td>7          </td><td>0.06424524 </td><td>0.009177891</td><td>      NA   </td><td>        NA </td></tr>\n",
       "</tbody>\n",
       "</table>\n"
      ],
      "text/latex": [
       "\\begin{tabular}{r|lllll}\n",
       "  & Df & Sum Sq & Mean Sq & F value & Pr(>F)\\\\\n",
       "\\hline\n",
       "\tlog(area, 10) & 1           & 0.08710178  & 0.087101780 & 9.490392    & 0.01779917 \\\\\n",
       "\tResiduals & 7           & 0.06424524  & 0.009177891 &       NA    &         NA \\\\\n",
       "\\end{tabular}\n"
      ],
      "text/markdown": [
       "\n",
       "| <!--/--> | Df | Sum Sq | Mean Sq | F value | Pr(>F) | \n",
       "|---|---|\n",
       "| log(area, 10) | 1           | 0.08710178  | 0.087101780 | 9.490392    | 0.01779917  | \n",
       "| Residuals | 7           | 0.06424524  | 0.009177891 |       NA    |         NA  | \n",
       "\n",
       "\n"
      ],
      "text/plain": [
       "              Df Sum Sq     Mean Sq     F value  Pr(>F)    \n",
       "log(area, 10) 1  0.08710178 0.087101780 9.490392 0.01779917\n",
       "Residuals     7  0.06424524 0.009177891       NA         NA"
      ]
     },
     "metadata": {},
     "output_type": "display_data"
    }
   ],
   "source": [
    "summary(WAPmod)\n",
    "mod\n",
    "coef(WAPmod)\n",
    "confint(mod)\n",
    "anova(WAPmod)"
   ]
  },
  {
   "cell_type": "markdown",
   "metadata": {},
   "source": [
    "## Linear regression on NCT...follow the same steps as above."
   ]
  },
  {
   "cell_type": "code",
   "execution_count": 50,
   "metadata": {},
   "outputs": [
    {
     "data": {
      "image/png": "[encoded data removed]",
      "text/plain": [
       "plot without title"
      ]
     },
     "metadata": {},
     "output_type": "display_data"
    }
   ],
   "source": [
    "plot(log(spp,10) ~ log(area,10), NCTmoths)\n",
    "NCTmod <- lm(log(spp,10) ~log(area,10), data=NCTmoths)\n",
    "abline(NCTmod)"
   ]
  },
  {
   "cell_type": "code",
   "execution_count": 51,
   "metadata": {},
   "outputs": [
    {
     "data": {
      "image/png": "[encoded data removed]",
      "text/plain": [
       "Plot with title \"\""
      ]
     },
     "metadata": {},
     "output_type": "display_data"
    },
    {
     "data": {
      "image/png": "[encoded data removed]",
      "text/plain": [
       "Plot with title \"\""
      ]
     },
     "metadata": {},
     "output_type": "display_data"
    },
    {
     "data": {
      "image/png": "[encoded data removed]",
      "text/plain": [
       "Plot with title \"\""
      ]
     },
     "metadata": {},
     "output_type": "display_data"
    },
    {
     "data": {
      "image/png": "[encoded data removed]",
      "text/plain": [
       "Plot with title \"\""
      ]
     },
     "metadata": {},
     "output_type": "display_data"
    }
   ],
   "source": [
    "plot(NCTmod)"
   ]
  },
  {
   "cell_type": "code",
   "execution_count": 52,
   "metadata": {},
   "outputs": [
    {
     "data": {
      "text/plain": [
       "\n",
       "Call:\n",
       "lm(formula = log(spp, 10) ~ log(area, 10), data = WAPmoths)\n",
       "\n",
       "Residuals:\n",
       "     Min       1Q   Median       3Q      Max \n",
       "-0.17236 -0.04988  0.01778  0.05439  0.13550 \n",
       "\n",
       "Coefficients:\n",
       "              Estimate Std. Error t value Pr(>|t|)    \n",
       "(Intercept)    1.58593    0.07196  22.040    1e-07 ***\n",
       "log(area, 10)  0.13235    0.04296   3.081   0.0178 *  \n",
       "---\n",
       "Signif. codes:  0 '***' 0.001 '**' 0.01 '*' 0.05 '.' 0.1 ' ' 1\n",
       "\n",
       "Residual standard error: 0.0958 on 7 degrees of freedom\n",
       "Multiple R-squared:  0.5755,\tAdjusted R-squared:  0.5149 \n",
       "F-statistic:  9.49 on 1 and 7 DF,  p-value: 0.0178\n"
      ]
     },
     "metadata": {},
     "output_type": "display_data"
    },
    {
     "data": {
      "text/plain": [
       "\n",
       "Call:\n",
       "lm(formula = log(spp, 10) ~ log(Isolation, 10), data = moths)\n",
       "\n",
       "Coefficients:\n",
       "       (Intercept)  log(Isolation, 10)  \n",
       "            0.9577              1.0968  \n"
      ]
     },
     "metadata": {},
     "output_type": "display_data"
    },
    {
     "data": {
      "text/html": [
       "<dl class=dl-horizontal>\n",
       "\t<dt>(Intercept)</dt>\n",
       "\t\t<dd>1.58593064640472</dd>\n",
       "\t<dt>log(area, 10)</dt>\n",
       "\t\t<dd>0.132353905009805</dd>\n",
       "</dl>\n"
      ],
      "text/latex": [
       "\\begin{description*}\n",
       "\\item[(Intercept)] 1.58593064640472\n",
       "\\item[log(area, 10)] 0.132353905009805\n",
       "\\end{description*}\n"
      ],
      "text/markdown": [
       "(Intercept)\n",
       ":   1.58593064640472log(area, 10)\n",
       ":   0.132353905009805\n",
       "\n"
      ],
      "text/plain": [
       "  (Intercept) log(area, 10) \n",
       "    1.5859306     0.1323539 "
      ]
     },
     "metadata": {},
     "output_type": "display_data"
    },
    {
     "data": {
      "text/html": [
       "<table>\n",
       "<thead><tr><th></th><th scope=col>2.5 %</th><th scope=col>97.5 %</th></tr></thead>\n",
       "<tbody>\n",
       "\t<tr><th scope=row>(Intercept)</th><td>0.4078097</td><td>1.507662 </td></tr>\n",
       "\t<tr><th scope=row>log(Isolation, 10)</th><td>0.3826603</td><td>1.810992 </td></tr>\n",
       "</tbody>\n",
       "</table>\n"
      ],
      "text/latex": [
       "\\begin{tabular}{r|ll}\n",
       "  & 2.5 \\% & 97.5 \\%\\\\\n",
       "\\hline\n",
       "\t(Intercept) & 0.4078097 & 1.507662 \\\\\n",
       "\tlog(Isolation, 10) & 0.3826603 & 1.810992 \\\\\n",
       "\\end{tabular}\n"
      ],
      "text/markdown": [
       "\n",
       "| <!--/--> | 2.5 % | 97.5 % | \n",
       "|---|---|\n",
       "| (Intercept) | 0.4078097 | 1.507662  | \n",
       "| log(Isolation, 10) | 0.3826603 | 1.810992  | \n",
       "\n",
       "\n"
      ],
      "text/plain": [
       "                   2.5 %     97.5 %  \n",
       "(Intercept)        0.4078097 1.507662\n",
       "log(Isolation, 10) 0.3826603 1.810992"
      ]
     },
     "metadata": {},
     "output_type": "display_data"
    },
    {
     "data": {
      "text/html": [
       "<table>\n",
       "<thead><tr><th></th><th scope=col>Df</th><th scope=col>Sum Sq</th><th scope=col>Mean Sq</th><th scope=col>F value</th><th scope=col>Pr(&gt;F)</th></tr></thead>\n",
       "<tbody>\n",
       "\t<tr><th scope=row>log(area, 10)</th><td>1          </td><td>0.08710178 </td><td>0.087101780</td><td>9.490392   </td><td>0.01779917 </td></tr>\n",
       "\t<tr><th scope=row>Residuals</th><td>7          </td><td>0.06424524 </td><td>0.009177891</td><td>      NA   </td><td>        NA </td></tr>\n",
       "</tbody>\n",
       "</table>\n"
      ],
      "text/latex": [
       "\\begin{tabular}{r|lllll}\n",
       "  & Df & Sum Sq & Mean Sq & F value & Pr(>F)\\\\\n",
       "\\hline\n",
       "\tlog(area, 10) & 1           & 0.08710178  & 0.087101780 & 9.490392    & 0.01779917 \\\\\n",
       "\tResiduals & 7           & 0.06424524  & 0.009177891 &       NA    &         NA \\\\\n",
       "\\end{tabular}\n"
      ],
      "text/markdown": [
       "\n",
       "| <!--/--> | Df | Sum Sq | Mean Sq | F value | Pr(>F) | \n",
       "|---|---|\n",
       "| log(area, 10) | 1           | 0.08710178  | 0.087101780 | 9.490392    | 0.01779917  | \n",
       "| Residuals | 7           | 0.06424524  | 0.009177891 |       NA    |         NA  | \n",
       "\n",
       "\n"
      ],
      "text/plain": [
       "              Df Sum Sq     Mean Sq     F value  Pr(>F)    \n",
       "log(area, 10) 1  0.08710178 0.087101780 9.490392 0.01779917\n",
       "Residuals     7  0.06424524 0.009177891       NA         NA"
      ]
     },
     "metadata": {},
     "output_type": "display_data"
    }
   ],
   "source": [
    "summary(WAPmod)\n",
    "mod\n",
    "coef(WAPmod)\n",
    "confint(mod)\n",
    "anova(WAPmod)"
   ]
  },
  {
   "cell_type": "code",
   "execution_count": null,
   "metadata": {},
   "outputs": [],
   "source": []
  }
 ],
 "metadata": {
  "kernelspec": {
   "display_name": "R",
   "language": "R",
   "name": "ir"
  },
  "language_info": {
   "codemirror_mode": "r",
   "file_extension": ".r",
   "mimetype": "text/x-r-source",
   "name": "R",
   "pygments_lexer": "r",
   "version": "3.5.1"
  }
 },
 "nbformat": 4,
 "nbformat_minor": 2
}
