{
 "cells": [
   ]
  },
  {
   "cell_type": "raw",
   "metadata": {},
   "source": [
    "Despite being underrated compared to their relative the butterfly, moths are a diverse and important ecolological component of their respective ecosystems.\n",
    "\n",
    "As a pHD student at Miami University, Keith Summerville was interested in how habitat quality affects moth communities. With the help of his colleague Thomas O. Crist, he designed an experiment that teased apart whether variables like forest cover, forest diversity, habitat area, and habitat fragmentation significantly affected moth communities in Ohio. "
   ]
  },
  {
   "cell_type": "markdown",
   "metadata": {},
   "source": [
    "# Import the moths data from the .csv file"
   ]
  },
  {
   "cell_type": "code",
   "execution_count": 1,
   "metadata": {
    "scrolled": true
   },
   "outputs": [
    {
     "data": {
      "text/html": [
       "<table>\n",
       "<thead><tr><th scope=col>region</th><th scope=col>site</th><th scope=col>area</th><th scope=col>ForstCover</th><th scope=col>Treediversity</th><th scope=col>Isolation</th><th scope=col>spp</th><th scope=col>lat</th><th scope=col>long</th></tr></thead>\n",
       "<tbody>\n",
       "\t<tr><td>WAP        </td><td>ClearCreek </td><td>289.0      </td><td>84.9       </td><td>5.59       </td><td>6.89       </td><td>85         </td><td>39.593     </td><td>-82.573    </td></tr>\n",
       "\t<tr><td>WAP        </td><td>CraneHollow</td><td>180.9      </td><td>82.2       </td><td>8.61       </td><td>6.80       </td><td>81         </td><td>39.630     </td><td>-82.558    </td></tr>\n",
       "\t<tr><td>WAP        </td><td>Phinney    </td><td> 93.5      </td><td>84.3       </td><td>6.84       </td><td>6.70       </td><td>96         </td><td>39.558     </td><td>-82.500    </td></tr>\n",
       "\t<tr><td>WAP        </td><td>Rockbridge </td><td> 89.8      </td><td>38.3       </td><td>5.09       </td><td>6.34       </td><td>47         </td><td>39.575     </td><td>-82.500    </td></tr>\n",
       "\t<tr><td>WAP        </td><td>Wahkeena   </td><td> 72.8      </td><td>53.4       </td><td>2.25       </td><td>6.38       </td><td>65         </td><td>39.635     </td><td>-82.529    </td></tr>\n",
       "\t<tr><td>WAP        </td><td>Klinger    </td><td> 22.6      </td><td>29.3       </td><td>7.06       </td><td>6.03       </td><td>66         </td><td>39.587     </td><td>-82.831    </td></tr>\n",
       "\t<tr><td>WAP        </td><td>Fairview   </td><td>  6.9      </td><td>12.5       </td><td>3.94       </td><td>5.43       </td><td>43         </td><td>39.525     </td><td>-82.450    </td></tr>\n",
       "\t<tr><td>WAP        </td><td>WindyHills </td><td>  3.8      </td><td>38.5       </td><td>4.97       </td><td>6.00       </td><td>41         </td><td>39.583     </td><td>-82.533    </td></tr>\n",
       "\t<tr><td>WAP        </td><td>RidgeLaurel</td><td>  1.7      </td><td>56.2       </td><td>7.69       </td><td>6.20       </td><td>49         </td><td>39.499     </td><td>-82.573    </td></tr>\n",
       "\t<tr><td>NCT        </td><td>Pater      </td><td>230.6      </td><td>37.1       </td><td>9.01       </td><td>6.21       </td><td>90         </td><td>39.433     </td><td>-84.742    </td></tr>\n",
       "\t<tr><td>NCT        </td><td>Brookville </td><td>118.2      </td><td>31.1       </td><td>7.65       </td><td>6.09       </td><td>83         </td><td>39.504     </td><td>-85.005    </td></tr>\n",
       "\t<tr><td>NCT        </td><td>Hueston    </td><td> 88.9      </td><td>39.1       </td><td>3.45       </td><td>6.71       </td><td>79         </td><td>39.570     </td><td>-84.758    </td></tr>\n",
       "\t<tr><td>NCT        </td><td>Western    </td><td> 68.0      </td><td>25.7       </td><td>4.41       </td><td>6.05       </td><td>74         </td><td>39.501     </td><td>-84.721    </td></tr>\n",
       "\t<tr><td>NCT        </td><td>McClure    </td><td> 58.7      </td><td>16.5       </td><td>3.24       </td><td>5.70       </td><td>66         </td><td>39.456     </td><td>-84.874    </td></tr>\n",
       "\t<tr><td>NCT        </td><td>Bittner    </td><td> 38.2      </td><td>15.0       </td><td>5.52       </td><td>5.58       </td><td>86         </td><td>39.434     </td><td>-84.785    </td></tr>\n",
       "\t<tr><td>NCT        </td><td>Gregg      </td><td> 29.5      </td><td>10.4       </td><td>3.70       </td><td>5.27       </td><td>57         </td><td>39.477     </td><td>-84.720    </td></tr>\n",
       "\t<tr><td>NCT        </td><td>Jericho    </td><td> 11.1      </td><td> 4.8       </td><td>7.41       </td><td>5.14       </td><td>64         </td><td>39.539     </td><td>-84.727    </td></tr>\n",
       "\t<tr><td>NCT        </td><td>Hermann    </td><td>  9.6      </td><td> 6.3       </td><td>5.70       </td><td>5.12       </td><td>54         </td><td>39.434     </td><td>-84.808    </td></tr>\n",
       "\t<tr><td>NCT        </td><td>Kramer     </td><td>  5.2      </td><td>38.6       </td><td>3.27       </td><td>6.18       </td><td>67         </td><td>39.528     </td><td>-84.716    </td></tr>\n",
       "\t<tr><td>NCT        </td><td>ERC        </td><td>  4.6      </td><td>30.5       </td><td>2.88       </td><td>6.00       </td><td>46         </td><td>39.532     </td><td>-84.722    </td></tr>\n",
       "\t<tr><td>NCT        </td><td>Drake      </td><td>  1.9      </td><td>10.0       </td><td>3.06       </td><td>3.32       </td><td>35         </td><td>39.458     </td><td>-84.817    </td></tr>\n",
       "</tbody>\n",
       "</table>\n"
      ],
      "text/latex": [
       "\\begin{tabular}{r|lllllllll}\n",
       " region & site & area & ForstCover & Treediversity & Isolation & spp & lat & long\\\\\n",
       "\\hline\n",
       "\t WAP         & ClearCreek  & 289.0       & 84.9        & 5.59        & 6.89        & 85          & 39.593      & -82.573    \\\\\n",
       "\t WAP         & CraneHollow & 180.9       & 82.2        & 8.61        & 6.80        & 81          & 39.630      & -82.558    \\\\\n",
       "\t WAP         & Phinney     &  93.5       & 84.3        & 6.84        & 6.70        & 96          & 39.558      & -82.500    \\\\\n",
       "\t WAP         & Rockbridge  &  89.8       & 38.3        & 5.09        & 6.34        & 47          & 39.575      & -82.500    \\\\\n",
       "\t WAP         & Wahkeena    &  72.8       & 53.4        & 2.25        & 6.38        & 65          & 39.635      & -82.529    \\\\\n",
       "\t WAP         & Klinger     &  22.6       & 29.3        & 7.06        & 6.03        & 66          & 39.587      & -82.831    \\\\\n",
       "\t WAP         & Fairview    &   6.9       & 12.5        & 3.94        & 5.43        & 43          & 39.525      & -82.450    \\\\\n",
       "\t WAP         & WindyHills  &   3.8       & 38.5        & 4.97        & 6.00        & 41          & 39.583      & -82.533    \\\\\n",
       "\t WAP         & RidgeLaurel &   1.7       & 56.2        & 7.69        & 6.20        & 49          & 39.499      & -82.573    \\\\\n",
       "\t NCT         & Pater       & 230.6       & 37.1        & 9.01        & 6.21        & 90          & 39.433      & -84.742    \\\\\n",
       "\t NCT         & Brookville  & 118.2       & 31.1        & 7.65        & 6.09        & 83          & 39.504      & -85.005    \\\\\n",
       "\t NCT         & Hueston     &  88.9       & 39.1        & 3.45        & 6.71        & 79          & 39.570      & -84.758    \\\\\n",
       "\t NCT         & Western     &  68.0       & 25.7        & 4.41        & 6.05        & 74          & 39.501      & -84.721    \\\\\n",
       "\t NCT         & McClure     &  58.7       & 16.5        & 3.24        & 5.70        & 66          & 39.456      & -84.874    \\\\\n",
       "\t NCT         & Bittner     &  38.2       & 15.0        & 5.52        & 5.58        & 86          & 39.434      & -84.785    \\\\\n",
       "\t NCT         & Gregg       &  29.5       & 10.4        & 3.70        & 5.27        & 57          & 39.477      & -84.720    \\\\\n",
       "\t NCT         & Jericho     &  11.1       &  4.8        & 7.41        & 5.14        & 64          & 39.539      & -84.727    \\\\\n",
       "\t NCT         & Hermann     &   9.6       &  6.3        & 5.70        & 5.12        & 54          & 39.434      & -84.808    \\\\\n",
       "\t NCT         & Kramer      &   5.2       & 38.6        & 3.27        & 6.18        & 67          & 39.528      & -84.716    \\\\\n",
       "\t NCT         & ERC         &   4.6       & 30.5        & 2.88        & 6.00        & 46          & 39.532      & -84.722    \\\\\n",
       "\t NCT         & Drake       &   1.9       & 10.0        & 3.06        & 3.32        & 35          & 39.458      & -84.817    \\\\\n",
       "\\end{tabular}\n"
      ],
      "text/markdown": [
       "\n",
       "| region | site | area | ForstCover | Treediversity | Isolation | spp | lat | long |\n",
       "|---|---|---|---|---|---|---|---|---|\n",
       "| WAP         | ClearCreek  | 289.0       | 84.9        | 5.59        | 6.89        | 85          | 39.593      | -82.573     |\n",
       "| WAP         | CraneHollow | 180.9       | 82.2        | 8.61        | 6.80        | 81          | 39.630      | -82.558     |\n",
       "| WAP         | Phinney     |  93.5       | 84.3        | 6.84        | 6.70        | 96          | 39.558      | -82.500     |\n",
       "| WAP         | Rockbridge  |  89.8       | 38.3        | 5.09        | 6.34        | 47          | 39.575      | -82.500     |\n",
       "| WAP         | Wahkeena    |  72.8       | 53.4        | 2.25        | 6.38        | 65          | 39.635      | -82.529     |\n",
       "| WAP         | Klinger     |  22.6       | 29.3        | 7.06        | 6.03        | 66          | 39.587      | -82.831     |\n",
       "| WAP         | Fairview    |   6.9       | 12.5        | 3.94        | 5.43        | 43          | 39.525      | -82.450     |\n",
       "| WAP         | WindyHills  |   3.8       | 38.5        | 4.97        | 6.00        | 41          | 39.583      | -82.533     |\n",
       "| WAP         | RidgeLaurel |   1.7       | 56.2        | 7.69        | 6.20        | 49          | 39.499      | -82.573     |\n",
       "| NCT         | Pater       | 230.6       | 37.1        | 9.01        | 6.21        | 90          | 39.433      | -84.742     |\n",
       "| NCT         | Brookville  | 118.2       | 31.1        | 7.65        | 6.09        | 83          | 39.504      | -85.005     |\n",
       "| NCT         | Hueston     |  88.9       | 39.1        | 3.45        | 6.71        | 79          | 39.570      | -84.758     |\n",
       "| NCT         | Western     |  68.0       | 25.7        | 4.41        | 6.05        | 74          | 39.501      | -84.721     |\n",
       "| NCT         | McClure     |  58.7       | 16.5        | 3.24        | 5.70        | 66          | 39.456      | -84.874     |\n",
       "| NCT         | Bittner     |  38.2       | 15.0        | 5.52        | 5.58        | 86          | 39.434      | -84.785     |\n",
       "| NCT         | Gregg       |  29.5       | 10.4        | 3.70        | 5.27        | 57          | 39.477      | -84.720     |\n",
       "| NCT         | Jericho     |  11.1       |  4.8        | 7.41        | 5.14        | 64          | 39.539      | -84.727     |\n",
       "| NCT         | Hermann     |   9.6       |  6.3        | 5.70        | 5.12        | 54          | 39.434      | -84.808     |\n",
       "| NCT         | Kramer      |   5.2       | 38.6        | 3.27        | 6.18        | 67          | 39.528      | -84.716     |\n",
       "| NCT         | ERC         |   4.6       | 30.5        | 2.88        | 6.00        | 46          | 39.532      | -84.722     |\n",
       "| NCT         | Drake       |   1.9       | 10.0        | 3.06        | 3.32        | 35          | 39.458      | -84.817     |\n",
       "\n"
      ],
      "text/plain": [
       "   region site        area  ForstCover Treediversity Isolation spp lat   \n",
       "1  WAP    ClearCreek  289.0 84.9       5.59          6.89      85  39.593\n",
       "2  WAP    CraneHollow 180.9 82.2       8.61          6.80      81  39.630\n",
       "3  WAP    Phinney      93.5 84.3       6.84          6.70      96  39.558\n",
       "4  WAP    Rockbridge   89.8 38.3       5.09          6.34      47  39.575\n",
       "5  WAP    Wahkeena     72.8 53.4       2.25          6.38      65  39.635\n",
       "6  WAP    Klinger      22.6 29.3       7.06          6.03      66  39.587\n",
       "7  WAP    Fairview      6.9 12.5       3.94          5.43      43  39.525\n",
       "8  WAP    WindyHills    3.8 38.5       4.97          6.00      41  39.583\n",
       "9  WAP    RidgeLaurel   1.7 56.2       7.69          6.20      49  39.499\n",
       "10 NCT    Pater       230.6 37.1       9.01          6.21      90  39.433\n",
       "11 NCT    Brookville  118.2 31.1       7.65          6.09      83  39.504\n",
       "12 NCT    Hueston      88.9 39.1       3.45          6.71      79  39.570\n",
       "13 NCT    Western      68.0 25.7       4.41          6.05      74  39.501\n",
       "14 NCT    McClure      58.7 16.5       3.24          5.70      66  39.456\n",
       "15 NCT    Bittner      38.2 15.0       5.52          5.58      86  39.434\n",
       "16 NCT    Gregg        29.5 10.4       3.70          5.27      57  39.477\n",
       "17 NCT    Jericho      11.1  4.8       7.41          5.14      64  39.539\n",
       "18 NCT    Hermann       9.6  6.3       5.70          5.12      54  39.434\n",
       "19 NCT    Kramer        5.2 38.6       3.27          6.18      67  39.528\n",
       "20 NCT    ERC           4.6 30.5       2.88          6.00      46  39.532\n",
       "21 NCT    Drake         1.9 10.0       3.06          3.32      35  39.458\n",
       "   long   \n",
       "1  -82.573\n",
       "2  -82.558\n",
       "3  -82.500\n",
       "4  -82.500\n",
       "5  -82.529\n",
       "6  -82.831\n",
       "7  -82.450\n",
       "8  -82.533\n",
       "9  -82.573\n",
       "10 -84.742\n",
       "11 -85.005\n",
       "12 -84.758\n",
       "13 -84.721\n",
       "14 -84.874\n",
       "15 -84.785\n",
       "16 -84.720\n",
       "17 -84.727\n",
       "18 -84.808\n",
       "19 -84.716\n",
       "20 -84.722\n",
       "21 -84.817"
      ]
     },
     "metadata": {},
     "output_type": "display_data"
    }
   ],
   "source": [
    "moths <- \n",
    "  read.csv(\"moths.csv\",\n",
    "   header=TRUE, sep=\",\", na.strings=\"NA\", dec=\".\", strip.white=TRUE)\n",
    "moths"
   ]
  },
  {
   "cell_type": "markdown",
   "metadata": {},
   "source": [
    "# Now, let's install some R packages that will be useful as we start to look at and analyze the data."
   ]
  },
  {
   "cell_type": "code",
   "execution_count": 2,
   "metadata": {
    "scrolled": true
   },
   "outputs": [
    {
     "name": "stderr",
     "output_type": "stream",
     "text": [
      "Installing package into ‘/srv/rlibs’\n",
      "(as ‘lib’ is unspecified)\n",
      "also installing the dependencies ‘numDeriv’, ‘gtools’, ‘permute’, ‘deSolve’, ‘bbmle’, ‘gdata’, ‘vegan’\n",
      "\n",
      "Installing package into ‘/srv/rlibs’\n",
      "(as ‘lib’ is unspecified)\n",
      "Installing package into ‘/srv/rlibs’\n",
      "(as ‘lib’ is unspecified)\n",
      "also installing the dependency ‘latticeExtra’\n",
      "\n",
      "Loading required package: deSolve\n",
      "Loading required package: lattice\n",
      "\n",
      "Attaching package: ‘histogram’\n",
      "\n",
      "The following object is masked from ‘package:lattice’:\n",
      "\n",
      "    histogram\n",
      "\n"
     ]
    }
   ],
   "source": [
    "install.packages(\"primer\", repos='http://cran.us.r-project.org', dependencies=TRUE)\n",
    "install.packages(\"histogram\", repos='http://cran.us.r-project.org', dependencies=TRUE)\n",
    "install.packages(\"lattice\", repos='http://cran.us.r-project.org', dependencies=TRUE)\n",
    "\n",
    "library(\"primer\")\n",
    "library(\"histogram\")\n",
    "library(\"lattice\")"
   ]
  },
  {
   "cell_type": "markdown",
   "metadata": {},
   "source": [
    "# The first thing we want to do is make sure that our response variable (moth species) is well-behaved. Does it have a normal distribution?\n",
    "\n",
    "# To test this assumption, let's start by visualizing the distribution using a histogram..."
   ]
  },
  {
   "cell_type": "code",
   "execution_count": 3,
   "metadata": {},
   "outputs": [
    {
     "data": {
      "image/png": "iVBORw0KGgoAAAANSUhEUgAAA0gAAANICAMAAADKOT/pAAADAFBMVEUAAAABAQECAgIDAwME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\nIQEO/j/ANBygp1DR5AAAAABJRU5ErkJggg==",
      "text/plain": [
       "Plot with title “Histogram of moths$spp”"
      ]
     },
     "metadata": {},
     "output_type": "display_data"
    }
   ],
   "source": [
    "hist(moths$spp, col=\"darkgray\")"
   ]
  },
  {
   "cell_type": "markdown",
   "metadata": {},
   "source": [
    "# What are your thoughts about the distribution of our moths data from looking at the histogram?\n",
    "\n",
    "# We can statistically test for normality using the Shapiro Test, which tests the null hypothesis that the sample being tested is normally distributed."
   ]
  },
  {
   "cell_type": "code",
   "execution_count": 4,
   "metadata": {},
   "outputs": [
    {
     "data": {
      "text/plain": [
       "\n",
       "\tShapiro-Wilk normality test\n",
       "\n",
       "data:  moths$spp\n",
       "W = 0.96008, p-value = 0.5178\n"
      ]
     },
     "metadata": {},
     "output_type": "display_data"
    }
   ],
   "source": [
    "shapiro.test(moths$spp)"
   ]
  },
  {
   "cell_type": "markdown",
   "metadata": {},
   "source": [
    "# How do we interpret this? If the p value is less than our significance level (p < 0.05), then we don't reject the null hypothesis. Our p-value here is 0.5178; this means that our sample follows a normal distribution."
   ]
  },
  {
   "cell_type": "markdown",
   "metadata": {},
   "source": [
    "# However, it is standard to look at the log distribution. Let's log transform the histogram and run the Shapiro Test again."
   ]
  },
  {
   "cell_type": "code",
   "execution_count": 5,
   "metadata": {},
   "outputs": [
    {
     "data": {
      "image/png": "iVBORw0KGgoAAAANSUhEUgAAA0gAAANICAMAAADKOT/pAAADAFBMVEUAAAABAQECAgIDAwME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\nEoAA/w/txLN22WKiXgAAAABJRU5ErkJggg==",
      "text/plain": [
       "Plot with title “Histogram of log(moths$spp, 10)”"
      ]
     },
     "metadata": {},
     "output_type": "display_data"
    }
   ],
   "source": [
    "hist(log(moths$spp,10))"
   ]
  },
  {
   "cell_type": "code",
   "execution_count": 6,
   "metadata": {},
   "outputs": [
    {
     "data": {
      "text/plain": [
       "\n",
       "\tShapiro-Wilk normality test\n",
       "\n",
       "data:  log(moths$spp, 10)\n",
       "W = 0.94994, p-value = 0.3398\n"
      ]
     },
     "metadata": {},
     "output_type": "display_data"
    }
   ],
   "source": [
    "shapiro.test(log(moths$spp,10))"
   ]
  },
  {
   "cell_type": "markdown",
   "metadata": {},
   "source": [
    "# Does the Shapiro Test still show our moth species data as being normally distributed?"
   ]
  }
 ],
 "metadata": {
  "kernelspec": {
   "display_name": "R",
   "language": "R",
   "name": "ir"
  },
  "language_info": {
   "codemirror_mode": "r",
   "file_extension": ".r",
   "mimetype": "text/x-r-source",
   "name": "R",
   "pygments_lexer": "r",
   "version": "3.4.4"
  }
 },
 "nbformat": 4,
 "nbformat_minor": 2
}
